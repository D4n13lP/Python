{
  "cells": [
    {
      "cell_type": "markdown",
      "metadata": {
        "id": "MDNT0VJaEV15"
      },
      "source": [
        "1. Escribir un programa que guarde en una variable el diccionario Euro:€, Dollar:$,Yen:¥,Peso:$,Won:₩,Libra:£, pregunte al usuario por una divisa y muestre su símbolo o un mensaje de aviso si la divisa no está en el diccionario."
      ]
    },
    {
      "cell_type": "code",
      "execution_count": null,
      "metadata": {
        "id": "WIupkYZ8G50K"
      },
      "outputs": [],
      "source": [
        "#Tú código aquí"
      ]
    },
    {
      "cell_type": "markdown",
      "metadata": {
        "id": "I8cT4A6kCcS5"
      },
      "source": [
        "2. Escribe un programa python que pida un número por teclado y que cree un\n",
        "diccionario cuyas claves sean desde el número 1 hasta el número indicado, y los\n",
        "valores sean el producto de la clave por la misma clave, ejemplo: si proporciona el 4 el resutaldo tendría que ser:\n",
        "\n",
        "1 * 1 = 1\n",
        "\n",
        "2 * 2 = 4\n",
        "\n",
        "3 * 3 = 9\n",
        "\n",
        "4 * 4 = 16"
      ]
    },
    {
      "cell_type": "code",
      "execution_count": null,
      "metadata": {
        "id": "f5Q8MTGhG7K5"
      },
      "outputs": [],
      "source": [
        "#Tú código aquí"
      ]
    },
    {
      "cell_type": "markdown",
      "metadata": {
        "id": "6YzvzjvXG75m"
      },
      "source": [
        "3. Escribir un programa que pregunte al usuario su nombre, edad, dirección y teléfono y lo guarde en un diccionario. Despúes debe mostrar por pantalla el mensaje <nombre> tiene <edad> años, vive en <dirección> y su número de teléfono es <teléfono>."
      ]
    },
    {
      "cell_type": "code",
      "execution_count": null,
      "metadata": {
        "id": "vfC6e6fnJznm"
      },
      "outputs": [],
      "source": [
        "#Tú código aquí"
      ]
    },
    {
      "cell_type": "markdown",
      "metadata": {
        "id": "q_1fLIWHJ0Rk"
      },
      "source": [
        "4. Escribir un programa que nos pregunte el nombre de un alumno y nos imprima su calificación, datos que estan almacenados en un diccionario, nos debe preguntar vía un while True tantas veces mientras no le digamos ya no queremos conultar más alumnos."
      ]
    },
    {
      "cell_type": "code",
      "execution_count": null,
      "metadata": {
        "id": "YFvZnKIjKNKy"
      },
      "outputs": [],
      "source": [
        "#Tú código aquí"
      ]
    },
    {
      "cell_type": "markdown",
      "metadata": {
        "id": "_U1tK_2pDhnU"
      },
      "source": [
        "SOLUCIONES"
      ]
    },
    {
      "cell_type": "code",
      "execution_count": 1,
      "metadata": {
        "id": "WLOm9nl3FHON"
      },
      "outputs": [
        {
          "name": "stdout",
          "output_type": "stream",
          "text": [
            "$\n"
          ]
        }
      ],
      "source": [
        "monedas = {'Euro':'€', 'Dollar':'$', 'Yen':'¥','Peso':'$','Won': '₩','Libra':'£'}\n",
        "moneda = input(\"Introduce una divisa: \")\n",
        "print(monedas.get(moneda.title(), \"La divisa no está.\"))"
      ]
    },
    {
      "cell_type": "code",
      "execution_count": null,
      "metadata": {
        "id": "84Qcrc7mCZgk"
      },
      "outputs": [],
      "source": [
        "numero = int(input(\"Proporciona un número:\"))\n",
        "numeros = {}\n",
        "for num in range(1,numero+1):\n",
        "  numeros[num] = num * num\n",
        "for num, valor in numeros.items():\n",
        "  print(\"%d -> %d\" % (num,valor))"
      ]
    },
    {
      "cell_type": "code",
      "execution_count": null,
      "metadata": {
        "id": "UjG74e5eHD4O"
      },
      "outputs": [],
      "source": [
        "nombre = input('¿Cómo te llamas? ')\n",
        "edad = input('¿Cuántos años tienes? ')\n",
        "direccion = input('¿Cuál es tu dirección? ')\n",
        "telefono = input('¿Cuál es tu número de teléfono? ')\n",
        "persona = {'nombre': nombre, 'edad': edad, 'direccion': direccion, 'telefono': telefono}\n",
        "print(persona['nombre'], 'tiene', persona['edad'], 'años, vive en', persona['direccion'], 'y su número de teléfono es', persona['telefono'])"
      ]
    },
    {
      "cell_type": "code",
      "execution_count": null,
      "metadata": {
        "id": "TxgSTZrcHcCt"
      },
      "outputs": [],
      "source": [
        "nombres = {\"pedro\": 10, \"juan\": 7, \"daniel\": 5, \"miguel\": 8}\n",
        "while True:\n",
        "  nombre = input(\"Nombre del alumno a consultar:\")\n",
        "  if nombre.lower() not in nombres:\n",
        "   print(\"Ese nombre no existe.\")\n",
        "  else:\n",
        "    print(f\"la calificacion es de {nombres[nombre]}\" )\n",
        "    opcion = input(\"¿Quieres ver otra calificación (s/n)\")\n",
        "  while opcion.lower() != \"s\" and opcion.lower() != \"n\":\n",
        "   opcion = input(\"¿Quieres ver otra calificación (s/n)\")\n",
        "  if opcion.lower() == \"n\":\n",
        "   break"
      ]
    }
  ],
  "metadata": {
    "colab": {
      "name": "metodos_de_objetos.ipynb",
      "provenance": []
    },
    "kernelspec": {
      "display_name": "Python 3.10.5 64-bit (windows store)",
      "language": "python",
      "name": "python3"
    },
    "language_info": {
      "codemirror_mode": {
        "name": "ipython",
        "version": 3
      },
      "file_extension": ".py",
      "mimetype": "text/x-python",
      "name": "python",
      "nbconvert_exporter": "python",
      "pygments_lexer": "ipython3",
      "version": "3.10.5"
    },
    "vscode": {
      "interpreter": {
        "hash": "541f1ccb820e06d22b0e0ca226fd1b36bbd00a40fedd51f8e91c1934c9becc0a"
      }
    }
  },
  "nbformat": 4,
  "nbformat_minor": 0
}
