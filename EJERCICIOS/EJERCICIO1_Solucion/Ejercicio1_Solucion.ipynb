{
 "cells": [
  {
   "cell_type": "code",
   "execution_count": 35,
   "metadata": {},
   "outputs": [
    {
     "name": "stdout",
     "output_type": "stream",
     "text": [
      "2022-06-17\n",
      "1050.0 cm equivalen a: 10.5 M\n",
      "\n",
      "El siguiente programa calcula la distancia que hay entre 2 planetas con respecto al sol\n",
      "\n",
      "La distancia que hay entre los 2 planetas es: 91700000.0\n"
     ]
    }
   ],
   "source": [
    "from datetime import date\n",
    "date.today()\n",
    "print(date.today())\n",
    "## Empieza el inciso 2\n",
    "cm = input(\"Ingrese los cm que desea convertir en M\")\n",
    "m = float(cm) / 100\n",
    "print(float(cm), \"cm equivalen a:\", float(m), \"M\")\n",
    "## Empieza el inciso 3\n",
    "print(\"\\nEl siguiente programa calcula la distancia que hay entre 2 planetas con respecto al sol\\n\")\n",
    "planeta_1 = input(\"¿A que distancia del sol se encuentra el planeta 1?\")\n",
    "planeta_2 = input(\"¿A que distancia del sol se encuentra el planeta 2?\")\n",
    "distancia = float(planeta_1) - float(planeta_2)\n",
    "if float(distancia) < 0:\n",
    "    distancia*=(-1)\n",
    "    print(\"La distancia que hay entre los 2 planetas es:\", float(distancia))\n",
    "else: \n",
    "    print(\"La distancia que hay entre los 2 planetas es:\", float(distancia))\n"
   ]
  }
 ],
 "metadata": {
  "kernelspec": {
   "display_name": "Python 3.10.5 64-bit",
   "language": "python",
   "name": "python3"
  },
  "language_info": {
   "codemirror_mode": {
    "name": "ipython",
    "version": 3
   },
   "file_extension": ".py",
   "mimetype": "text/x-python",
   "name": "python",
   "nbconvert_exporter": "python",
   "pygments_lexer": "ipython3",
   "version": "3.10.5"
  },
  "orig_nbformat": 4,
  "vscode": {
   "interpreter": {
    "hash": "32f2fe102a4f10662d8c13f75131e1ba377b7194060421a642fdea27c55fc65a"
   }
  }
 },
 "nbformat": 4,
 "nbformat_minor": 2
}
