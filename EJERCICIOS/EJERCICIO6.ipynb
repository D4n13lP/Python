{
  "cells": [
    {
      "cell_type": "markdown",
      "metadata": {
        "id": "YWx64NiMIfdZ"
      },
      "source": [
        "## Ejercicio 1\n",
        "Escribir una función que muestre por pantalla el saludo ¡Hola amiga(o)! cada vez que se la invoque."
      ]
    },
    {
      "cell_type": "code",
      "execution_count": 9,
      "metadata": {
        "id": "3nkL6teLIvdl"
      },
      "outputs": [],
      "source": [
        "# Escribe aqui la función\n",
        "def saludo():\n",
        "    return 'Hola HDLV!'\n",
        "saludo()"
      ]
    },
    {
      "cell_type": "markdown",
      "metadata": {
        "id": "Sx8CECVbI1oD"
      },
      "source": [
        "## Ejercicio 2\n",
        "Escribir una función a la que se le pase una cadena nombre y muestre por pantalla el saludo ¡hola nombre!."
      ]
    },
    {
      "cell_type": "code",
      "execution_count": 13,
      "metadata": {
        "id": "ELoyrQj-JOyq"
      },
      "outputs": [
        {
          "data": {
            "text/plain": [
              "'hola daniel'"
            ]
          },
          "execution_count": 13,
          "metadata": {},
          "output_type": "execute_result"
        }
      ],
      "source": [
        "# Escribe aqui la función\n",
        "def saludo(nombre = input('Digita tu nombre')):\n",
        "    return (f'hola {nombre}')\n",
        "saludo()"
      ]
    },
    {
      "cell_type": "markdown",
      "metadata": {
        "id": "Lm7Qo1eqJRGX"
      },
      "source": [
        "## Ejercicio 3\n",
        "Escribir una función que calcule el total de una factura tras aplicarle el IVA. La función debe recibir la cantidad sin IVA y el porcentaje de IVA a aplicar, y devolver el total de la factura. Si se invoca la función sin pasarle el porcentaje de IVA, deberá aplicar un 16%."
      ]
    },
    {
      "cell_type": "code",
      "execution_count": null,
      "metadata": {
        "id": "-5uvJCB5KHSm"
      },
      "outputs": [],
      "source": [
        "# Escribe aqui la función"
      ]
    },
    {
      "cell_type": "markdown",
      "metadata": {
        "id": "KKiK1kZzVpm0"
      },
      "source": [
        "## Ejercicio 4: Trabajar con argumentos en funciones\n",
        "Los argumentos requeridos en las funciones se utilizan cuando las funciones necesitan que esos argumentos funcionen correctamente.\n",
        "\n",
        "Comienza por crear una función que necesite tres lecturas de calificaciones y devuelva un informe:"
      ]
    },
    {
      "cell_type": "code",
      "execution_count": null,
      "metadata": {
        "id": "wrLfV98GVyyJ"
      },
      "outputs": [],
      "source": [
        "# Función para leer 3 calificaciones y muestre el promedio"
      ]
    },
    {
      "cell_type": "markdown",
      "metadata": {
        "id": "pBtVyatLV3CU"
      },
      "source": [
        "Ahora que hemos definido la función de informes, vamos a comprobarlo. Las calificaciones serán 8,7,10"
      ]
    },
    {
      "cell_type": "code",
      "execution_count": null,
      "metadata": {
        "id": "jrnr_SP3WOB1"
      },
      "outputs": [],
      "source": [
        "# Llamamos a la función que genera el reporte print(funcion(cal1, cal2, cal3))\n"
      ]
    },
    {
      "cell_type": "markdown",
      "metadata": {
        "id": "uvxEfXjBWe0g"
      },
      "source": [
        "En lugar de simplemente crear el informe, la función también está calculando el promedio. Mejora la legibilidad extrayendo el cálculo promedio de la función en una nueva función para que el promedio se pueda hacer de forma independiente:"
      ]
    },
    {
      "cell_type": "code",
      "execution_count": null,
      "metadata": {
        "id": "paiWvAT6WlcH"
      },
      "outputs": [],
      "source": [
        "# Función promedio "
      ]
    },
    {
      "cell_type": "markdown",
      "metadata": {
        "id": "7_4M9H0eWoY9"
      },
      "source": [
        "Ahora actualiza la función de informes para llamando a la nueva función del promedio:"
      ]
    },
    {
      "cell_type": "code",
      "execution_count": null,
      "metadata": {
        "id": "FchdIDElWq6y"
      },
      "outputs": [],
      "source": [
        "# Actualiza la función"
      ]
    },
    {
      "cell_type": "markdown",
      "metadata": {
        "id": "K1koSJUpWs2L"
      },
      "source": [
        "## SOLUCION"
      ]
    },
    {
      "cell_type": "code",
      "execution_count": null,
      "metadata": {
        "id": "vKjim4bVKXsI"
      },
      "outputs": [],
      "source": []
    },
    {
      "cell_type": "markdown",
      "metadata": {
        "id": "sfHlRxh5KQBd"
      },
      "source": [
        "Ejercicio 3"
      ]
    },
    {
      "cell_type": "code",
      "execution_count": null,
      "metadata": {
        "id": "NFPdw8GxKTJ6"
      },
      "outputs": [],
      "source": [
        "def factura(monto, iva=16):\n",
        "    return monto + monto*iva/100\n",
        "\n",
        "print(factura(452,10))\n",
        "print(factura(452))"
      ]
    },
    {
      "cell_type": "markdown",
      "metadata": {
        "id": "-FpkUlSzKWW-"
      },
      "source": [
        "Ejercicio 4"
      ]
    },
    {
      "cell_type": "code",
      "execution_count": null,
      "metadata": {
        "id": "6LGs1rjdWvWr"
      },
      "outputs": [],
      "source": [
        "# Función para leer 3 calificaciones  y muestre el promedio\n",
        "\n",
        "def reporte(cal1, cal2, cal3):\n",
        "    promedio = (cal1 + cal2 + cal3) / 3\n",
        "    return f\"\"\"Reporte de calificaciones:\n",
        "    Promedio: {promedio}\n",
        "    calificación 1 : {cal1}\n",
        "    calificación 2: {cal2}\n",
        "    calificación 3: {cal3}\n",
        "    \"\"\""
      ]
    },
    {
      "cell_type": "code",
      "execution_count": null,
      "metadata": {
        "id": "h4z1Toa4Xgqn"
      },
      "outputs": [],
      "source": [
        "# Llamamos a la función que genera el reporte print(funcion(cal1, cal2, cal3))\n",
        "print(reporte(8, 7, 10))"
      ]
    },
    {
      "cell_type": "code",
      "execution_count": null,
      "metadata": {
        "id": "9KEOg_xTYFKn"
      },
      "outputs": [],
      "source": [
        "# Función promedio \n",
        "def prom(values):\n",
        "    total = sum(values)\n",
        "    numero_de_items = len(values)\n",
        "    return total / numero_de_items"
      ]
    },
    {
      "cell_type": "code",
      "execution_count": null,
      "metadata": {
        "id": "5-SPvHjcYZDB"
      },
      "outputs": [],
      "source": [
        "prom([8, 7, 10]) "
      ]
    },
    {
      "cell_type": "code",
      "execution_count": null,
      "metadata": {
        "id": "nuzuxnh6Y-Vz"
      },
      "outputs": [],
      "source": [
        "# Actualiza la función\n",
        "def reporte(cal1, cal2, cal3):\n",
        "    return f\"\"\" Reporte:\n",
        "    Total Average: {prom([cal1, cal2, cal3])}\n",
        "    calificacion 1: {cal1}\n",
        "    calificación 2: {cal2}\n",
        "    calificación 3: {cal3}\n",
        "    \"\"\"\n",
        "\n",
        "print(reporte(8, 7, 10))"
      ]
    }
  ],
  "metadata": {
    "colab": {
      "name": "Untitled2.ipynb",
      "provenance": []
    },
    "kernelspec": {
      "display_name": "Python 3.10.5 64-bit (windows store)",
      "language": "python",
      "name": "python3"
    },
    "language_info": {
      "codemirror_mode": {
        "name": "ipython",
        "version": 3
      },
      "file_extension": ".py",
      "mimetype": "text/x-python",
      "name": "python",
      "nbconvert_exporter": "python",
      "pygments_lexer": "ipython3",
      "version": "3.10.5"
    },
    "vscode": {
      "interpreter": {
        "hash": "541f1ccb820e06d22b0e0ca226fd1b36bbd00a40fedd51f8e91c1934c9becc0a"
      }
    }
  },
  "nbformat": 4,
  "nbformat_minor": 0
}
