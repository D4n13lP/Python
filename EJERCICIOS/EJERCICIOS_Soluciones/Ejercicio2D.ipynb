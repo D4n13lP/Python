{
 "cells": [
  {
   "cell_type": "code",
   "execution_count": null,
   "metadata": {},
   "outputs": [],
   "source": []
  },
  {
   "cell_type": "code",
   "execution_count": 4,
   "metadata": {},
   "outputs": [
    {
     "name": "stdout",
     "output_type": "stream",
     "text": [
      "Usuarios De Escuela De Codigo\n",
      "----------------------------------------------------------------------\n",
      "Nombre: Daniel \n",
      "\n",
      "Folio: 1564564\n",
      "\n"
     ]
    }
   ],
   "source": [
    "titulo = 'usuarios de escuela de codigo'\n",
    "guion =  '-'\n",
    "nombre = input('Ingrese el nombre')\n",
    "folio =  input('Ingrese el folio')\n",
    "\n",
    "print(f'{titulo.title()}')\n",
    "print(f'{guion}'*70)\n",
    "print(f'Nombre: {nombre}\\n')\n",
    "print(f'Folio: {folio}\\n')\n"
   ]
  }
 ],
 "metadata": {
  "kernelspec": {
   "display_name": "Python 3.6.9 64-bit",
   "language": "python",
   "name": "python3"
  },
  "language_info": {
   "codemirror_mode": {
    "name": "ipython",
    "version": 3
   },
   "file_extension": ".py",
   "mimetype": "text/x-python",
   "name": "python",
   "nbconvert_exporter": "python",
   "pygments_lexer": "ipython3",
   "version": "3.6.9"
  },
  "orig_nbformat": 4,
  "vscode": {
   "interpreter": {
    "hash": "31f2aee4e71d21fbe5cf8b01ff0e069b9275f58929596ceb00d14d90e3e16cd6"
   }
  }
 },
 "nbformat": 4,
 "nbformat_minor": 2
}
