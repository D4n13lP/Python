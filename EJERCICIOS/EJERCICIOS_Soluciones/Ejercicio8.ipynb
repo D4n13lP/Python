{
 "cells": [
  {
   "cell_type": "markdown",
   "metadata": {},
   "source": [
    "# Ejeccio 8\n",
    "Desarrollar un programa que conste de una clase padre Cuenta y dos subclases PlazoFijo y CajaAhorro. Definir los atributos titular y cantidad y un método para imprimir los datos en la clase Cuenta.   \n",
    "La clase Caja Ahorro tendrá un método para heredar los datos y uno para mostrar la información.  \n",
    "\n",
    "La clase PlazoFijo tendrá dos atributos propios, plazo e interés. Tendrá un método para obtener el importe del interés (cantidad*interés/100) y otro método para mostrar la información, datos del titular plazo, interés y total   de interés.  \n",
    "\n",
    "Crear al menos un objeto de cada subclase."
   ]
  },
  {
   "cell_type": "code",
   "execution_count": 2,
   "metadata": {},
   "outputs": [
    {
     "name": "stdout",
     "output_type": "stream",
     "text": [
      "Datos titular: ['Pedro Sanchez, 5567881506, Siempre viva, 742 en Springfield']\n",
      "Saldo disponible: 7000\n",
      "Tiene actualmente 2000 en su cuenta de ahorro\n",
      "El importe del interes es de:1050.0\n",
      "A pagar en: 1 Año\n"
     ]
    }
   ],
   "source": [
    "class Cuenta():\n",
    "    def __init__(self, cantidad):\n",
    "        self.titular = ['Pedro Sanchez, 5567881506, Siempre viva, 742 en Springfield'] \n",
    "        self.cantidad = cantidad\n",
    "\n",
    "    def dataPrint(self):\n",
    "        print(f'Datos titular: {self.titular}\\nSaldo disponible: {self.cantidad}')\n",
    "\n",
    "class CajaAhorro(Cuenta):\n",
    "    def __init__(self, cantidad):\n",
    "        super().__init__(cantidad)\n",
    "\n",
    "    def mostrarInfo(self):\n",
    "        print(f'Tiene actualmente {self.cantidad} en su cuenta de ahorro')\n",
    "\n",
    "class PlazoFijo(Cuenta):\n",
    "    def __init__(self, cantidad, plazo, interes, importe):\n",
    "        #super().__init__(cantidad)\n",
    "        Cuenta.__init__(self,cantidad)\n",
    "        self.plazo = plazo\n",
    "        self.interes = interes \n",
    "        self.importe = importe   \n",
    "    def importeInteres(self):\n",
    "        self.importe = self.cantidad * self.interes / 100\n",
    "        print(f'El importe del interes es de:{self.importe}\\nA pagar en: {self.plazo}')\n",
    "# Pedro Sanchez, 5567881506, Siempre viva, 742 en Springfield  \n",
    "\n",
    "persona1 = Cuenta(7000)\n",
    "persona1.dataPrint()\n",
    "\n",
    "persona1 = CajaAhorro(2000)\n",
    "persona1.mostrarInfo()\n",
    "\n",
    "persona1 = PlazoFijo(7000, '1 Año', 15, 7000)\n",
    "persona1.importeInteres()"
   ]
  }
 ],
 "metadata": {
  "kernelspec": {
   "display_name": "Python 3.10.5 64-bit (windows store)",
   "language": "python",
   "name": "python3"
  },
  "language_info": {
   "codemirror_mode": {
    "name": "ipython",
    "version": 3
   },
   "file_extension": ".py",
   "mimetype": "text/x-python",
   "name": "python",
   "nbconvert_exporter": "python",
   "pygments_lexer": "ipython3",
   "version": "3.10.5"
  },
  "orig_nbformat": 4,
  "vscode": {
   "interpreter": {
    "hash": "541f1ccb820e06d22b0e0ca226fd1b36bbd00a40fedd51f8e91c1934c9becc0a"
   }
  }
 },
 "nbformat": 4,
 "nbformat_minor": 2
}
