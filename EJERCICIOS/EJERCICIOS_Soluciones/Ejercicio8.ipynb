{
 "cells": [
  {
   "cell_type": "markdown",
   "metadata": {},
   "source": [
    "# Ejeccio 8\n",
    "Desarrollar un programa que conste de una clase padre Cuenta y dos subclases PlazoFijo y CajaAhorro. Definir los atributos titular y cantidad y un método para imprimir los datos en la clase Cuenta.   \n",
    "La clase Caja Ahorro tendrá un método para heredar los datos y uno para mostrar la información.  \n",
    "\n",
    "La clase PlazoFijo tendrá dos atributos propios, plazo e interés. Tendrá un método para obtener el importe del interés (cantidad*interés/100) y otro método para mostrar la información, datos del titular plazo, interés y total   de interés.  \n",
    "\n",
    "Crear al menos un objeto de cada subclase."
   ]
  },
  {
   "cell_type": "code",
   "execution_count": 14,
   "metadata": {},
   "outputs": [],
   "source": [
    "class Cuenta():\n",
    "    def __init__(self, cantidad):\n",
    "        self.titular = [] \n",
    "        self.cantidad = cantidad\n",
    "\n",
    "    def dataPrint(self):\n",
    "        print(f'Datos titular: {self.titular}\\nSaldo disponible: {self.cantidad}')\n",
    "\n",
    "class CajaAhorro(Cuenta):\n",
    "    def __init__(self, cantidad):\n",
    "        super().__init__(cantidad)\n",
    "\n",
    "    def mostrarInfo(self):\n",
    "        pass\n",
    "\n",
    "class PlazoFijo(Cuenta):\n",
    "    def __init__(self, cantidad, plazo, interes):\n",
    "        super().__init__(cantidad)\n",
    "        self.plazo = plazo\n",
    "        self.interes = interes\n",
    "    \n",
    "    def importeInteres(self, importe):\n",
    "         importe = self.cantidad * self.interes / 100\n",
    "\n",
    "\n",
    "# Pedro Sanchez, 5567881506, Siempre viva, 742 en Springfield    \n",
    "cantidad = int(input('Ingresa la cantidad a ingresar en tu cuenta'))\n",
    "persona1 = Cuenta(cantidad)"
   ]
  }
 ],
 "metadata": {
  "kernelspec": {
   "display_name": "Python 3.10.5 64-bit (windows store)",
   "language": "python",
   "name": "python3"
  },
  "language_info": {
   "codemirror_mode": {
    "name": "ipython",
    "version": 3
   },
   "file_extension": ".py",
   "mimetype": "text/x-python",
   "name": "python",
   "nbconvert_exporter": "python",
   "pygments_lexer": "ipython3",
   "version": "3.10.5"
  },
  "orig_nbformat": 4,
  "vscode": {
   "interpreter": {
    "hash": "541f1ccb820e06d22b0e0ca226fd1b36bbd00a40fedd51f8e91c1934c9becc0a"
   }
  }
 },
 "nbformat": 4,
 "nbformat_minor": 2
}
