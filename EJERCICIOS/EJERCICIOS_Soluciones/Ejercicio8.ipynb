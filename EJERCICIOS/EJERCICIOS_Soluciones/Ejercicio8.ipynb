{
 "cells": [
  {
   "cell_type": "markdown",
   "metadata": {},
   "source": [
    "# Ejeccio 8\n",
    "Desarrollar un programa que conste de una clase padre Cuenta y dos subclases PlazoFijo y CajaAhorro. Definir los atributos titular y cantidad y un método para imprimir los datos en la clase Cuenta.   \n",
    "La clase Caja Ahorro tendrá un método para heredar los datos y uno para mostrar la información.  \n",
    "\n",
    "La clase PlazoFijo tendrá dos atributos propios, plazo e interés. Tendrá un método para obtener el importe del interés (cantidad*interés/100) y otro método para mostrar la información, datos del titular plazo, interés y total   de interés.  \n",
    "\n",
    "Crear al menos un objeto de cada subclase."
   ]
  },
  {
   "cell_type": "code",
   "execution_count": 20,
   "metadata": {},
   "outputs": [
    {
     "ename": "ValueError",
     "evalue": "invalid literal for int() with base 10: ''",
     "output_type": "error",
     "traceback": [
      "\u001b[1;31m---------------------------------------------------------------------------\u001b[0m",
      "\u001b[1;31mValueError\u001b[0m                                Traceback (most recent call last)",
      "\u001b[1;32mc:\\Users\\Daniel\\Documents\\GitHub\\Python\\EJERCICIOS\\EJERCICIOS_Soluciones\\Ejercicio8.ipynb Cell 2'\u001b[0m in \u001b[0;36m<cell line: 30>\u001b[1;34m()\u001b[0m\n\u001b[0;32m     <a href='vscode-notebook-cell:/c%3A/Users/Daniel/Documents/GitHub/Python/EJERCICIOS/EJERCICIOS_Soluciones/Ejercicio8.ipynb#ch0000001?line=25'>26</a>\u001b[0m         \u001b[39mself\u001b[39m\u001b[39m.\u001b[39mimporte \u001b[39m=\u001b[39m \u001b[39mself\u001b[39m\u001b[39m.\u001b[39mcantidad\u001b[39m*\u001b[39m\u001b[39mself\u001b[39m\u001b[39m.\u001b[39minteres\u001b[39m/\u001b[39m\u001b[39m100\u001b[39m\n\u001b[0;32m     <a href='vscode-notebook-cell:/c%3A/Users/Daniel/Documents/GitHub/Python/EJERCICIOS/EJERCICIOS_Soluciones/Ejercicio8.ipynb#ch0000001?line=27'>28</a>\u001b[0m \u001b[39m# Pedro Sanchez, 5567881506, Siempre viva, 742 en Springfield  \u001b[39;00m\n\u001b[1;32m---> <a href='vscode-notebook-cell:/c%3A/Users/Daniel/Documents/GitHub/Python/EJERCICIOS/EJERCICIOS_Soluciones/Ejercicio8.ipynb#ch0000001?line=29'>30</a>\u001b[0m cantidad \u001b[39m=\u001b[39m \u001b[39mint\u001b[39;49m(\u001b[39minput\u001b[39;49m(\u001b[39m'\u001b[39;49m\u001b[39mIngresa la cantidad a ingresar en tu cuenta\u001b[39;49m\u001b[39m'\u001b[39;49m))\n\u001b[0;32m     <a href='vscode-notebook-cell:/c%3A/Users/Daniel/Documents/GitHub/Python/EJERCICIOS/EJERCICIOS_Soluciones/Ejercicio8.ipynb#ch0000001?line=30'>31</a>\u001b[0m interes \u001b[39m=\u001b[39m \u001b[39mint\u001b[39m(\u001b[39minput\u001b[39m(\u001b[39m'\u001b[39m\u001b[39mIngrese la cantidad de su tasa de interes\u001b[39m\u001b[39m'\u001b[39m)) \n\u001b[0;32m     <a href='vscode-notebook-cell:/c%3A/Users/Daniel/Documents/GitHub/Python/EJERCICIOS/EJERCICIOS_Soluciones/Ejercicio8.ipynb#ch0000001?line=31'>32</a>\u001b[0m persona1 \u001b[39m=\u001b[39m Cuenta(cantidad, interes)\n",
      "\u001b[1;31mValueError\u001b[0m: invalid literal for int() with base 10: ''"
     ]
    }
   ],
   "source": [
    "class Cuenta():\n",
    "    def __init__(self, cantidad):\n",
    "        self.titular = [] \n",
    "        self.cantidad = cantidad\n",
    "\n",
    "    def dataPrint(self):\n",
    "        self.titular.append([input('Ingrese los datos del titular\\n')])\n",
    "        print(f'Datos titular: {self.titular}\\nSaldo disponible: {self.cantidad}')\n",
    "\n",
    "class CajaAhorro(Cuenta):\n",
    "    def __init__(self, cantidad):\n",
    "        super().__init__(cantidad)\n",
    "\n",
    "    def mostrarInfo(self):\n",
    "        pass\n",
    "\n",
    "class PlazoFijo(Cuenta):\n",
    "    def __init__(self, cantidad, plazo, interes):\n",
    "        #super().__init__(cantidad)\n",
    "        Cuenta.__init__(self,cantidad)\n",
    "        self.cantidad\n",
    "        self.plazo = plazo\n",
    "        self.interes = interes    \n",
    "    \n",
    "    def importeInteres(self, importe):\n",
    "        self.importe = self.cantidad*self.interes/100\n",
    "\n",
    "# Pedro Sanchez, 5567881506, Siempre viva, 742 en Springfield  \n",
    "\n",
    "cantidad = int(input('Ingresa la cantidad a ingresar en tu cuenta'))\n",
    "interes = int(input('Ingrese la cantidad de su tasa de interes')) \n",
    "persona1 = Cuenta(cantidad, interes)\n",
    "persona1.dataPrint()\n",
    "persona1 = PlazoFijo(cantidad, interes)\n",
    "persona1.importeInteres()"
   ]
  }
 ],
 "metadata": {
  "kernelspec": {
   "display_name": "Python 3.10.5 64-bit (windows store)",
   "language": "python",
   "name": "python3"
  },
  "language_info": {
   "codemirror_mode": {
    "name": "ipython",
    "version": 3
   },
   "file_extension": ".py",
   "mimetype": "text/x-python",
   "name": "python",
   "nbconvert_exporter": "python",
   "pygments_lexer": "ipython3",
   "version": "3.10.5"
  },
  "orig_nbformat": 4,
  "vscode": {
   "interpreter": {
    "hash": "541f1ccb820e06d22b0e0ca226fd1b36bbd00a40fedd51f8e91c1934c9becc0a"
   }
  }
 },
 "nbformat": 4,
 "nbformat_minor": 2
}
