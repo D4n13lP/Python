{
 "cells": [
  {
   "cell_type": "markdown",
   "metadata": {},
   "source": [
    "# EJERCICIO 1\n",
    "\n",
    "1 - Realiza un programa que solicite dos números y una operación (suma, resta, división y multiplicación) e imprima el resultado.  \n",
    "\n",
    "Además deberá mostrar un menú con las siguientes opciones:  \n",
    "\n",
    "Mostrar números  \n",
    "\n",
    "Sumar  \n",
    "\n",
    "Restar  \n",
    "\n",
    "Dividir (considerar la división entre 0)  \n",
    "\n",
    "multipicar  \n",
    "\n",
    "cerrar calculadora  \n"
   ]
  },
  {
   "cell_type": "code",
   "execution_count": 11,
   "metadata": {},
   "outputs": [
    {
     "name": "stdout",
     "output_type": "stream",
     "text": [
      "1- mostrar numeros\n",
      "2- sumar\n",
      "3- restar\n",
      "4- Dividir\n",
      "5- multiplicar\n",
      "6- salir\n",
      "valor 1: 8.0 valor 2: 9.0\n",
      "64.0\n"
     ]
    }
   ],
   "source": [
    "print('1- mostrar numeros\\n2- sumar\\n3- restar\\n4- Dividir\\n5- multiplicar\\n6- salir')\n",
    "\n",
    "while True:\n",
    "    resultado = 0\n",
    "    opcion = int(input('Elija el numero de opercaion que quiere realizar'))\n",
    "    num1 = float(input('ingrese el primer valor'))\n",
    "    num2 = float(input('ingrese el segundo valor'))\n",
    "    if int(opcion) == 1:\n",
    "        print(f'valor 1: {num1} valor 2: {num2}')\n",
    "    elif int(opcion) == 2:\n",
    "        resultado = num1 + num2\n",
    "    elif int(opcion) == 3:  \n",
    "        resultado = num1 - num2\n",
    "    elif int(opcion) == 4:\n",
    "        if float(num1) == 0 or float(num2) == 0:\n",
    "            print ('No se puede dividir con cero')\n",
    "        else:\n",
    "            resultado = num1 / num2 \n",
    "    elif int(opcion) == 5:\n",
    "        resultado = num1 * num2\n",
    "    elif int(opcion) == 6:\n",
    "        break\n",
    "    else: \n",
    "        print('Opcion no valida')\n",
    "    print(resultado)\n",
    "\n",
    "   "
   ]
  },
  {
   "cell_type": "code",
   "execution_count": 1,
   "metadata": {},
   "outputs": [
    {
     "name": "stdout",
     "output_type": "stream",
     "text": [
      "1- mostrar\n",
      "2- sumar\n",
      "3- restar\n",
      "4- multiplicar\n",
      "5- division\n",
      "6- salir\n"
     ]
    },
    {
     "ename": "KeyboardInterrupt",
     "evalue": "Interrupted by user",
     "output_type": "error",
     "traceback": [
      "\u001b[0;31m---------------------------------------------------------------------------\u001b[0m",
      "\u001b[0;31mKeyboardInterrupt\u001b[0m                         Traceback (most recent call last)",
      "\u001b[0;32m<ipython-input-1-642a09e85540>\u001b[0m in \u001b[0;36m<module>\u001b[0;34m\u001b[0m\n\u001b[1;32m     20\u001b[0m \u001b[0mprint\u001b[0m\u001b[0;34m(\u001b[0m\u001b[0;34m'1- mostrar\\n2- sumar\\n3- restar\\n4- multiplicar\\n5- division\\n6- salir'\u001b[0m\u001b[0;34m)\u001b[0m\u001b[0;34m\u001b[0m\u001b[0;34m\u001b[0m\u001b[0m\n\u001b[1;32m     21\u001b[0m \u001b[0;32mwhile\u001b[0m \u001b[0;32mTrue\u001b[0m\u001b[0;34m:\u001b[0m\u001b[0;34m\u001b[0m\u001b[0;34m\u001b[0m\u001b[0m\n\u001b[0;32m---> 22\u001b[0;31m     \u001b[0mopcion\u001b[0m \u001b[0;34m=\u001b[0m \u001b[0minput\u001b[0m\u001b[0;34m(\u001b[0m\u001b[0;34m)\u001b[0m\u001b[0;34m\u001b[0m\u001b[0;34m\u001b[0m\u001b[0m\n\u001b[0m\u001b[1;32m     23\u001b[0m \u001b[0;34m\u001b[0m\u001b[0m\n\u001b[1;32m     24\u001b[0m \u001b[0;34m\u001b[0m\u001b[0m\n",
      "\u001b[0;32m~/.local/lib/python3.6/site-packages/ipykernel/kernelbase.py\u001b[0m in \u001b[0;36mraw_input\u001b[0;34m(self, prompt)\u001b[0m\n\u001b[1;32m    852\u001b[0m             \u001b[0mself\u001b[0m\u001b[0;34m.\u001b[0m\u001b[0m_parent_ident\u001b[0m\u001b[0;34m,\u001b[0m\u001b[0;34m\u001b[0m\u001b[0;34m\u001b[0m\u001b[0m\n\u001b[1;32m    853\u001b[0m             \u001b[0mself\u001b[0m\u001b[0;34m.\u001b[0m\u001b[0m_parent_header\u001b[0m\u001b[0;34m,\u001b[0m\u001b[0;34m\u001b[0m\u001b[0;34m\u001b[0m\u001b[0m\n\u001b[0;32m--> 854\u001b[0;31m             \u001b[0mpassword\u001b[0m\u001b[0;34m=\u001b[0m\u001b[0;32mFalse\u001b[0m\u001b[0;34m,\u001b[0m\u001b[0;34m\u001b[0m\u001b[0;34m\u001b[0m\u001b[0m\n\u001b[0m\u001b[1;32m    855\u001b[0m         )\n\u001b[1;32m    856\u001b[0m \u001b[0;34m\u001b[0m\u001b[0m\n",
      "\u001b[0;32m~/.local/lib/python3.6/site-packages/ipykernel/kernelbase.py\u001b[0m in \u001b[0;36m_input_request\u001b[0;34m(self, prompt, ident, parent, password)\u001b[0m\n\u001b[1;32m    893\u001b[0m             \u001b[0;32mexcept\u001b[0m \u001b[0mKeyboardInterrupt\u001b[0m\u001b[0;34m:\u001b[0m\u001b[0;34m\u001b[0m\u001b[0;34m\u001b[0m\u001b[0m\n\u001b[1;32m    894\u001b[0m                 \u001b[0;31m# re-raise KeyboardInterrupt, to truncate traceback\u001b[0m\u001b[0;34m\u001b[0m\u001b[0;34m\u001b[0m\u001b[0;34m\u001b[0m\u001b[0m\n\u001b[0;32m--> 895\u001b[0;31m                 \u001b[0;32mraise\u001b[0m \u001b[0mKeyboardInterrupt\u001b[0m\u001b[0;34m(\u001b[0m\u001b[0;34m\"Interrupted by user\"\u001b[0m\u001b[0;34m)\u001b[0m \u001b[0;32mfrom\u001b[0m \u001b[0;32mNone\u001b[0m\u001b[0;34m\u001b[0m\u001b[0;34m\u001b[0m\u001b[0m\n\u001b[0m\u001b[1;32m    896\u001b[0m             \u001b[0;32mexcept\u001b[0m \u001b[0mException\u001b[0m \u001b[0;32mas\u001b[0m \u001b[0me\u001b[0m\u001b[0;34m:\u001b[0m\u001b[0;34m\u001b[0m\u001b[0;34m\u001b[0m\u001b[0m\n\u001b[1;32m    897\u001b[0m                 \u001b[0mself\u001b[0m\u001b[0;34m.\u001b[0m\u001b[0mlog\u001b[0m\u001b[0;34m.\u001b[0m\u001b[0mwarning\u001b[0m\u001b[0;34m(\u001b[0m\u001b[0;34m\"Invalid Message:\"\u001b[0m\u001b[0;34m,\u001b[0m \u001b[0mexc_info\u001b[0m\u001b[0;34m=\u001b[0m\u001b[0;32mTrue\u001b[0m\u001b[0;34m)\u001b[0m\u001b[0;34m\u001b[0m\u001b[0;34m\u001b[0m\u001b[0m\n",
      "\u001b[0;31mKeyboardInterrupt\u001b[0m: Interrupted by user"
     ]
    }
   ],
   "source": [
    "#Calucladora hecha con POO\n",
    "class Calculadora():\n",
    "   def __init__(self, num1, num2):\n",
    "     self.num1 = num1\n",
    "     self.num2 = num2\n",
    "   def imprimir(self):\n",
    "     print(f'Los valores son: valor 1:{self.num1}, valor 2: {self.num2}')\n",
    "   def sumar(self):\n",
    "     resultado = self.num1 + self.num2\n",
    "     print(resultado)\n",
    "   def restar(self):\n",
    "     resultado = self.num1 - self.num2\n",
    "     print(resultado)\n",
    "   def multiplicar(self):\n",
    "     resultado = self.num1 * self.num2\n",
    "     print(resultado)\n",
    "   def dividir(self):\n",
    "     resultado = self.num1 / self.num2\n",
    "\n",
    "print('1- mostrar\\n2- sumar\\n3- restar\\n4- multiplicar\\n5- division\\n6- salir')\n",
    "while True:\n",
    "    opcion = input()\n",
    "    \n",
    "\n",
    "\n"
   ]
  },
  {
   "cell_type": "markdown",
   "metadata": {},
   "source": [
    "# EJERCICIO 2\n",
    "\n",
    "2 - Realizar un programa que administre una agenda. Se debe almacenar para cada contacto el nombre, el teléfono y el email.  \n",
    "\n",
    "Además deberá mostrar un menú con las siguientes opciones:  \n",
    "\n",
    "Añadir contacto  \n",
    "\n",
    "Lista de contactos  \n",
    "\n",
    "Buscar contacto  \n",
    "\n",
    "Editar contacto  \n",
    "\n",
    "Cerrar agenda  "
   ]
  },
  {
   "cell_type": "code",
   "execution_count": null,
   "metadata": {},
   "outputs": [],
   "source": []
  }
 ],
 "metadata": {
  "kernelspec": {
   "display_name": "Python 3.10.5 64-bit (windows store)",
   "language": "python",
   "name": "python3"
  },
  "language_info": {
   "codemirror_mode": {
    "name": "ipython",
    "version": 3
   },
   "file_extension": ".py",
   "mimetype": "text/x-python",
   "name": "python",
   "nbconvert_exporter": "python",
   "pygments_lexer": "ipython3",
   "version": "3.10.5"
  },
  "orig_nbformat": 4,
  "vscode": {
   "interpreter": {
    "hash": "541f1ccb820e06d22b0e0ca226fd1b36bbd00a40fedd51f8e91c1934c9becc0a"
   }
  }
 },
 "nbformat": 4,
 "nbformat_minor": 2
}
