{
 "cells": [
  {
   "cell_type": "markdown",
   "metadata": {},
   "source": [
    "## Práctica 1. 6 puntos\n",
    "1 Práctica 1: Conociendo Python.\n",
    "\n",
    "Objetivo: Identificar el nivel de comprensión de los conceptos mediante preguntas\n",
    "abiertas.\n",
    "\n",
    "Responder las siguientes preguntas:\n",
    "\n",
    "1.1 ¿Qué es python? (2 puntos)\n",
    "\n",
    "Es un lenguaje similar a Perl, pero con una sintaxis muy limpia y que favorece un código legible. Se trata de un lenguaje interpretado o de script, \n",
    "con tipado dinámico, fuertemente tipado, multiplataforma y orientado a objetos.\n",
    "\n",
    "\n",
    "1.2 ¿Es multiplataforma en que sistemas operativos funciona ? (2 puntos)\n",
    "\n",
    "El intérprete de Python está disponible en multitud de plataformas (UNIX, Solaris, Linux, DOS, Windows, OS/2, Mac OS, etc.) por lo que si no utilizamos \n",
    "librerías específicas de cada plataforma nuestro programa podrá correr en todos estos sistemas sin grandes cambios.\n",
    "\n",
    "1.3 Ejercicio 1 (2 puntos)\n",
    "Escribir un programa que pregunte al usuario su nombre, y luego lo salude."
   ]
  },
  {
   "cell_type": "code",
   "execution_count": 2,
   "metadata": {},
   "outputs": [
    {
     "name": "stdout",
     "output_type": "stream",
     "text": [
      "Hola Isaac, ten un excelente dia.\n",
      "\n"
     ]
    }
   ],
   "source": [
    "nombre = input('Digite su nombre por favor')\n",
    "print(f'Hola {nombre}, ten un excelente dia.\\n')"
   ]
  }
 ],
 "metadata": {
  "kernelspec": {
   "display_name": "Python 3.10.5 64-bit",
   "language": "python",
   "name": "python3"
  },
  "language_info": {
   "codemirror_mode": {
    "name": "ipython",
    "version": 3
   },
   "file_extension": ".py",
   "mimetype": "text/x-python",
   "name": "python",
   "nbconvert_exporter": "python",
   "pygments_lexer": "ipython3",
   "version": "3.10.5"
  },
  "orig_nbformat": 4,
  "vscode": {
   "interpreter": {
    "hash": "32f2fe102a4f10662d8c13f75131e1ba377b7194060421a642fdea27c55fc65a"
   }
  }
 },
 "nbformat": 4,
 "nbformat_minor": 2
}
