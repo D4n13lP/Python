{
 "cells": [
  {
   "cell_type": "markdown",
   "metadata": {},
   "source": [
    "# Práctica 2. 6 puntos\n",
    "2 Práctica 2. Números enteros y reales.\n",
    "\n",
    "Realiza los ejercicios de acuerdo a las indicaciones."
   ]
  },
  {
   "cell_type": "markdown",
   "metadata": {},
   "source": [
    "2.1 Ejercicio 1 (1.5 puntos)\n",
    "\n",
    "Escribir un programa que convierta un valor dado en grados Fahrenheit a grados Celsius.\n",
    "\n",
    "2.2 Ejercicio 2 (1.5 puntos)\n",
    "\n",
    "Dados dos números, mostrar la suma, resta, división y multiplicación de ambos.\n",
    "\n",
    "2.3 Ejercicio 3 (1.5 puntos)\n",
    "\n",
    "Calcular el perímetro y área de un rectángulo dada su base y su altura. Respuesta:"
   ]
  },
  {
   "cell_type": "code",
   "execution_count": 65,
   "metadata": {},
   "outputs": [
    {
     "ename": "TypeError",
     "evalue": "'float' object is not callable",
     "output_type": "error",
     "traceback": [
      "\u001b[1;31m---------------------------------------------------------------------------\u001b[0m",
      "\u001b[1;31mTypeError\u001b[0m                                 Traceback (most recent call last)",
      "\u001b[1;32mUntitled-1.ipynb Cell 3'\u001b[0m in \u001b[0;36m<cell line: 6>\u001b[1;34m()\u001b[0m\n\u001b[0;32m      <a href='vscode-notebook-cell:Untitled-1.ipynb?jupyter-notebook#ch0000000untitled?line=3'>4</a>\u001b[0m dato \u001b[39m=\u001b[39m (\u001b[39m'\u001b[39m\u001b[39mIngrese los grados Celsius\u001b[39m\u001b[39m'\u001b[39m)\n\u001b[0;32m      <a href='vscode-notebook-cell:Untitled-1.ipynb?jupyter-notebook#ch0000000untitled?line=4'>5</a>\u001b[0m fahr \u001b[39m=\u001b[39m (\u001b[39m45\u001b[39m \u001b[39m*\u001b[39m \u001b[39m2\u001b[39m) \u001b[39m+\u001b[39m \u001b[39m32\u001b[39m\n\u001b[1;32m----> <a href='vscode-notebook-cell:Untitled-1.ipynb?jupyter-notebook#ch0000000untitled?line=5'>6</a>\u001b[0m \u001b[39mprint\u001b[39;49m(fahr)\n",
      "\u001b[1;31mTypeError\u001b[0m: 'float' object is not callable"
     ]
    }
   ],
   "source": [
    "#print('Este programa convierte grados Fahrenheit a Celsius\\n')\n",
    "#a = 32\n",
    "#b = 1.8\n",
    "dato = ('Ingrese los grados Celsius')\n",
    "fahr = (45 * 2) + 32\n",
    "print(fahr)\n",
    "\n"
   ]
  }
 ],
 "metadata": {
  "kernelspec": {
   "display_name": "Python 3.10.5 64-bit",
   "language": "python",
   "name": "python3"
  },
  "language_info": {
   "codemirror_mode": {
    "name": "ipython",
    "version": 3
   },
   "file_extension": ".py",
   "mimetype": "text/x-python",
   "name": "python",
   "nbconvert_exporter": "python",
   "pygments_lexer": "ipython3",
   "version": "3.10.5"
  },
  "orig_nbformat": 4,
  "vscode": {
   "interpreter": {
    "hash": "32f2fe102a4f10662d8c13f75131e1ba377b7194060421a642fdea27c55fc65a"
   }
  }
 },
 "nbformat": 4,
 "nbformat_minor": 2
}
