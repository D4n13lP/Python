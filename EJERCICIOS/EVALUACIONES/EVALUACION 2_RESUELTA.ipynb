{
 "cells": [
  {
   "cell_type": "markdown",
   "metadata": {},
   "source": [
    "# Práctica 2. 6 puntos\n",
    "\n",
    "2 Práctica 2. Números enteros y reales.\n",
    "\n",
    "Realiza los ejercicios de acuerdo a las indicaciones"
   ]
  },
  {
   "cell_type": "markdown",
   "metadata": {},
   "source": [
    "2.1 Ejercicio 1 (1.5 puntos)\n",
    "\n",
    "Escribir un programa que convierta un valor dado en grados Fahrenheit a grados Celsius."
   ]
  },
  {
   "cell_type": "code",
   "execution_count": 7,
   "metadata": {},
   "outputs": [
    {
     "name": "stdout",
     "output_type": "stream",
     "text": [
      "45.0 grados C, equivalen a: 7.222222222222222 grados F\n"
     ]
    }
   ],
   "source": [
    "dato =  float(input('Ingrese la temperatura en grados Fahrenheit'))\n",
    "celsius = (dato - 32) / 1.8\n",
    "print(f'{dato} grados C, equivalen a: {celsius} grados F')"
   ]
  },
  {
   "cell_type": "markdown",
   "metadata": {},
   "source": [
    "2.2 Ejercicio 2 (1.5 puntos)\n",
    "\n",
    "Dados dos números, mostrar la suma, resta, división y multiplicación de ambos."
   ]
  },
  {
   "cell_type": "code",
   "execution_count": 10,
   "metadata": {},
   "outputs": [
    {
     "name": "stdout",
     "output_type": "stream",
     "text": [
      "La suma de 7.0 y 3.0 es: 10.0\n",
      "La resta de 7.0 y 3.0 es: 4.0\n",
      "La division de 7.0 y 3.0 es: 2.3333333333333335\n",
      "La multiplicacion de 7.0 y 3.0 es: 21.0\n",
      "\n"
     ]
    }
   ],
   "source": [
    "num1 = float(input('Ingrese el primer numero'))\n",
    "num2 = float(input('Ingrese el segundo numero'))\n",
    "plus = num1 + num2 \n",
    "sub = num1 - num2\n",
    "div = num1 / num2\n",
    "mult = num1 * num2\n",
    "print(f'La suma de {num1} y {num2} es: {plus}\\nLa resta de {num1} y {num2} es: {sub}\\nLa division de {num1} y {num2} es: {div}\\nLa multiplicacion de {num1} y {num2} es: {mult}\\n')"
   ]
  },
  {
   "cell_type": "markdown",
   "metadata": {},
   "source": [
    "2.3 Ejercicio 3 (1.5 puntos)\n",
    "\n",
    "Calcular el perímetro y área de un rectángulo dada su base y su altura. Respuesta:"
   ]
  },
  {
   "cell_type": "code",
   "execution_count": 19,
   "metadata": {},
   "outputs": [
    {
     "name": "stdout",
     "output_type": "stream",
     "text": [
      "El perimetro del rectangulo es: 12.0 y el area es: 8.0\n"
     ]
    }
   ],
   "source": [
    "base = float(input('Ingrese la base del rectangula'))\n",
    "altura = float(input('Ingrese la altura del rectangula'))\n",
    "#p = 2(base) + 2(altura)\n",
    "p = 2*base + 2*altura\n",
    "a = base * altura \n",
    "print(f'El perimetro del rectangulo es: {p} y el area es: {a}')"
   ]
  }
 ],
 "metadata": {
  "kernelspec": {
   "display_name": "Python 3.10.5 64-bit",
   "language": "python",
   "name": "python3"
  },
  "language_info": {
   "codemirror_mode": {
    "name": "ipython",
    "version": 3
   },
   "file_extension": ".py",
   "mimetype": "text/x-python",
   "name": "python",
   "nbconvert_exporter": "python",
   "pygments_lexer": "ipython3",
   "version": "3.10.5"
  },
  "orig_nbformat": 4,
  "vscode": {
   "interpreter": {
    "hash": "32f2fe102a4f10662d8c13f75131e1ba377b7194060421a642fdea27c55fc65a"
   }
  }
 },
 "nbformat": 4,
 "nbformat_minor": 2
}
