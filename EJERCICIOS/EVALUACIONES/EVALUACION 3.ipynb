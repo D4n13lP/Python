{
 "cells": [
  {
   "cell_type": "markdown",
   "metadata": {},
   "source": [
    "# 3 Práctica 3. Operadores aritméticos\n",
    "\n",
    "pip install sympy  \n",
    "pip3 install sympy\n",
    "\n",
    "3.1 Ejercicio 1(2 puntos)\n",
    "\n",
    "**Simplifica la expresión 5+{{(3+1)}^2}.**"
   ]
  },
  {
   "cell_type": "code",
   "execution_count": 1,
   "metadata": {},
   "outputs": [
    {
     "name": "stdout",
     "output_type": "stream",
     "text": [
      "21\n"
     ]
    }
   ],
   "source": [
    "expresion = 5 + (((3+1))**2)\n",
    "print (expresion)"
   ]
  },
  {
   "cell_type": "markdown",
   "metadata": {},
   "source": [
    "3.2 Ejercicio 2 (2 puntos)\n",
    "\n",
    "**Simplifica la expresión 12-2{{(6-3)}^2}\\div 3.**\n",
    "$$12 - 2(((6-3))^2)/3 $$"
   ]
  },
  {
   "cell_type": "code",
   "execution_count": 9,
   "metadata": {},
   "outputs": [
    {
     "name": "stdout",
     "output_type": "stream",
     "text": [
      "6.0\n"
     ]
    }
   ],
   "source": [
    "exp = 12 - 2 * (((6-3)**2))/3\n",
    "print(exp)"
   ]
  },
  {
   "cell_type": "markdown",
   "metadata": {},
   "source": [
    "3.3 Ejercicio 3 (2 puntos)\n",
    "\n",
    "**Simplifica la expresión 12x+4[6-(3x+2)].**\n",
    "$$12x+4(6-(3x+2))$$"
   ]
  },
  {
   "cell_type": "code",
   "execution_count": 17,
   "metadata": {},
   "outputs": [
    {
     "name": "stdout",
     "output_type": "stream",
     "text": [
      "9*x + 8\n"
     ]
    }
   ],
   "source": [
    "#from sympy.solvers import solve\n",
    "from sympy import *\n",
    "x = Symbol('x')\n",
    "#solucion = expand(12*x+4*(6-(3*x+2)))\n",
    "solucion = expand(12*x+4+(6-1*(3*x+2)))\n",
    "print(solucion)\n"
   ]
  }
 ],
 "metadata": {
  "kernelspec": {
   "display_name": "Python 3.10.5 64-bit",
   "language": "python",
   "name": "python3"
  },
  "language_info": {
   "codemirror_mode": {
    "name": "ipython",
    "version": 3
   },
   "file_extension": ".py",
   "mimetype": "text/x-python",
   "name": "python",
   "nbconvert_exporter": "python",
   "pygments_lexer": "ipython3",
   "version": "3.10.5"
  },
  "orig_nbformat": 4,
  "vscode": {
   "interpreter": {
    "hash": "32f2fe102a4f10662d8c13f75131e1ba377b7194060421a642fdea27c55fc65a"
   }
  }
 },
 "nbformat": 4,
 "nbformat_minor": 2
}
