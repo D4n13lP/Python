{
 "cells": [
  {
   "cell_type": "markdown",
   "metadata": {},
   "source": [
    "# Práctica 4. 6 puntos\n",
    "## Tipos de colección de datos."
   ]
  },
  {
   "cell_type": "markdown",
   "metadata": {},
   "source": [
    "4.1 Ejercicio 1(1.2 puntos)\n",
    "Realizar un programa que inicialice una lista con 10 valores aleatorios (del 1 al 10) y posteriormente muestre en pantalla cada elemento de la lista junto con su cuadrado y su cubo. Respuesta:"
   ]
  },
  {
   "cell_type": "code",
   "execution_count": 50,
   "metadata": {},
   "outputs": [
    {
     "name": "stdout",
     "output_type": "stream",
     "text": [
      "Lista base: [2, 3, 1, 5, 8, 6, 10, 6, 8, 7]\n",
      "Lista ^ 2: [4, 9, 1, 25, 64, 36, 100, 36, 64, 49]\n",
      "Lista ^ 3: [8.0, 27.0, 1.0, 125.0, 512.0, 216.0, 1000.0, 216.0, 512.0, 343.0]\n"
     ]
    }
   ],
   "source": [
    "import random \n",
    "import math\n",
    "aleatorios = []\n",
    "contador = 1\n",
    "while contador <= 10:\n",
    "    num = random.randint(1,10)\n",
    "    aleatorios.append(num)\n",
    "    contador += 1\n",
    "print(f'Lista base: {aleatorios}')\n",
    "for i in range(0, len(aleatorios)):\n",
    "    aleatorios[i] = aleatorios[i]**2\n",
    "print(f'Lista ^ 2: {aleatorios}')\n",
    "for i in range(0, len(aleatorios)):\n",
    "    aleatorios[i] = math.sqrt(aleatorios[i])\n",
    "for i in range(0, len(aleatorios)):\n",
    "    aleatorios[i] = aleatorios[i]**3\n",
    "print(f'Lista ^ 3: {aleatorios}')"
   ]
  },
  {
   "cell_type": "markdown",
   "metadata": {},
   "source": [
    "4.2 Ejercicio 2 (1.2 puntos)\n",
    "Crea una lista e inicializarla con 5 cadenas de caracteres leídas por teclado. Copia los elementos de la lista en otra lista pero en orden inverso, y muestra sus elementos por la pantalla."
   ]
  },
  {
   "cell_type": "code",
   "execution_count": 77,
   "metadata": {},
   "outputs": [
    {
     "name": "stdout",
     "output_type": "stream",
     "text": [
      "['fin', '4', '3', '2', '1']\n",
      "['fin', '4', '3', '2', '1']\n"
     ]
    }
   ],
   "source": [
    "lista = []\n",
    "lista2 = []\n",
    "charString = ''\n",
    "while charString.lower() != 'fin':\n",
    "    charString = input('Ingresa un texto para gurdarlo, escribe \"fin\" para dejar de ingresar texto')\n",
    "    lista.append(charString)\n",
    "lista2 = lista\n",
    "lista2.sort(reverse=True)\n",
    "print(lista)\n",
    "print(lista2)"
   ]
  }
 ],
 "metadata": {
  "kernelspec": {
   "display_name": "Python 3.10.5 64-bit (windows store)",
   "language": "python",
   "name": "python3"
  },
  "language_info": {
   "codemirror_mode": {
    "name": "ipython",
    "version": 3
   },
   "file_extension": ".py",
   "mimetype": "text/x-python",
   "name": "python",
   "nbconvert_exporter": "python",
   "pygments_lexer": "ipython3",
   "version": "3.10.5"
  },
  "orig_nbformat": 4,
  "vscode": {
   "interpreter": {
    "hash": "541f1ccb820e06d22b0e0ca226fd1b36bbd00a40fedd51f8e91c1934c9becc0a"
   }
  }
 },
 "nbformat": 4,
 "nbformat_minor": 2
}
