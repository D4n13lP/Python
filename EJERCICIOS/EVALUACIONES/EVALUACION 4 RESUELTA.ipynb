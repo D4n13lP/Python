{
 "cells": [
  {
   "cell_type": "markdown",
   "metadata": {},
   "source": [
    "# Práctica 4. 6 puntos\n",
    "## Tipos de colección de datos."
   ]
  },
  {
   "cell_type": "markdown",
   "metadata": {},
   "source": [
    "**4.1 Ejercicio 1(1.2 puntos)**  \n",
    "Realizar un programa que inicialice una lista con 10 valores aleatorios (del 1 al 10) y posteriormente muestre en pantalla cada elemento de la lista junto con su cuadrado y su cubo.         \n",
    "\n",
    "Respuesta:"
   ]
  },
  {
   "cell_type": "code",
   "execution_count": 50,
   "metadata": {},
   "outputs": [
    {
     "name": "stdout",
     "output_type": "stream",
     "text": [
      "Lista base: [2, 3, 1, 5, 8, 6, 10, 6, 8, 7]\n",
      "Lista ^ 2: [4, 9, 1, 25, 64, 36, 100, 36, 64, 49]\n",
      "Lista ^ 3: [8.0, 27.0, 1.0, 125.0, 512.0, 216.0, 1000.0, 216.0, 512.0, 343.0]\n"
     ]
    }
   ],
   "source": [
    "#OPCION1\n",
    "import random \n",
    "import math\n",
    "aleatorios = []\n",
    "contador = 1\n",
    "while contador <= 10:\n",
    "    num = random.randint(1,10)\n",
    "    aleatorios.append(num)\n",
    "    contador += 1\n",
    "print(f'Lista base: {aleatorios}')\n",
    "for i in range(0, len(aleatorios)):\n",
    "    aleatorios[i] = aleatorios[i]**2\n",
    "print(f'Lista ^ 2: {aleatorios}')\n",
    "for i in range(0, len(aleatorios)):\n",
    "    aleatorios[i] = math.sqrt(aleatorios[i])\n",
    "for i in range(0, len(aleatorios)):\n",
    "    aleatorios[i] = aleatorios[i]**3\n",
    "print(f'Lista ^ 3: {aleatorios}')"
   ]
  },
  {
   "cell_type": "code",
   "execution_count": 6,
   "metadata": {},
   "outputs": [
    {
     "name": "stdout",
     "output_type": "stream",
     "text": [
      "1   1  1\n",
      "2   4  8\n",
      "9   81  729\n",
      "7   49  343\n",
      "8   64  512\n",
      "4   16  64\n",
      "6   36  216\n",
      "1   1  1\n",
      "6   36  216\n",
      "8   64  512\n"
     ]
    }
   ],
   "source": [
    "#OPCION2\n",
    "import random\n",
    "aleatorios = []\n",
    "for i in range(1,11):\n",
    "   aleatorios.append(random.randint(1,10))\n",
    "for num in aleatorios:\n",
    "    print(num,' ',num**2,'',num**3)"
   ]
  },
  {
   "cell_type": "markdown",
   "metadata": {},
   "source": [
    "**4.2 Ejercicio 2 (1.2 puntos)**  \n",
    "Crea una lista e inicializarla con 5 cadenas de caracteres leídas por teclado.  \n",
    "Copia los elementos de la lista en otra lista pero en orden inverso, y muestra sus elementos por la pantalla."
   ]
  },
  {
   "cell_type": "code",
   "execution_count": 16,
   "metadata": {},
   "outputs": [
    {
     "name": "stdout",
     "output_type": "stream",
     "text": [
      "['hola', 'como', 'estas', 'amigo']\n",
      "['amigo', 'estas', 'como', 'hola']\n"
     ]
    }
   ],
   "source": [
    "lista = []\n",
    "lista2 = []\n",
    "charString = ''\n",
    "while charString.lower() != 'fin':\n",
    "    charString = input('Ingresa un texto para gurdarlo, escribe \"fin\" para dejar de ingresar texto')\n",
    "    if (charString.lower() != 'fin'):\n",
    "       lista.append(charString)\n",
    "    else:\n",
    "       break\n",
    "print(lista)\n",
    "#Se usa la funcion slice colocando \" : \" porque el tamaño de la lista es variable y \" -1 \" para que empiece desde el final\n",
    "lista2 = lista[::-1]\n",
    "print(lista2)"
   ]
  },
  {
   "cell_type": "markdown",
   "metadata": {},
   "source": [
    "**4.3 Ejercicio 3 (1.2 puntos)**  \n",
    "Se quiere realizar un programa que lea por teclado las 5 notas obtenidas por un alumno (comprendidas entre 0 y 10).   \n",
    "A continuación debe mostrar todas las notas, la nota media, la nota más alta que ha sacado y la menor."
   ]
  },
  {
   "cell_type": "code",
   "execution_count": 24,
   "metadata": {},
   "outputs": [
    {
     "name": "stdout",
     "output_type": "stream",
     "text": [
      "[10, 9, 6, 5, 2]\n",
      "La nota mas alta es: 10, la nota mas baja es: 2, el promedio es: 6.4\n"
     ]
    }
   ],
   "source": [
    "notas = []\n",
    "valores = [1 ,2, 3, 4, 5, 6, 7, 8, 9, 10]\n",
    "calificacion = 1\n",
    "#Este for sirve para que solamente pida 5 datos, la variable \" i \" no se usa para nada solo para que recorra el rango de 1 a 6 \n",
    "for i in range(1,6):\n",
    "   calificacion = int(input('Ingresa el valor de tu primer nota'))\n",
    "#Aqui se valida que el programa solo acepte valores entre 1 y 10 comparando el input que recibe del teclado con los valores de una lista previamente definida\n",
    "   while int(calificacion) not in valores: \n",
    "      print('El valor de tu nota debe ser entre 0 y 10')\n",
    "      calificacion = (input('Ingresa el valor de tu primer nota'))\n",
    "# Si el valor recibido es compatible se guarda el contenido de la variable calificacion dentro de la lista \"notas\"\n",
    "   notas.append(calificacion)\n",
    "# En la variable avg se calcula el promedio usando la funcion \"sum\" para sumar todos los datos de la lista y \"len\" para el numero de datos dentro de la lista\n",
    "avg = sum(notas)/len(notas)\n",
    "print(notas)\n",
    "print(f'La nota mas alta es: {max(notas)}, la nota mas baja es: {min(notas)}, el promedio es: {float(avg)}')\n"
   ]
  },
  {
   "cell_type": "markdown",
   "metadata": {},
   "source": [
    "**4.4 Ejercicio 4 (1.2 puntos)**  \n",
    "Codifica un programa en python que nos permita guardar los nombres de los alumnos de una clase y las notas que han obtenido.   \n",
    "Cada alumno puede tener distinta cantidad de notas. Guarda la información en un diccionario cuya claves serán los nombres de los alumnos   \n",
    "y los valores serán listados con las notas de cada alumno.\n",
    "\n",
    "El programa pedirá el número de alumnos que vamos a introducir, pedirá su nombre e irá pidiendo sus notas hasta que introduzcamos un número negativo.   \n",
    "Al final el programa nos mostrará la lista de alumnos y la nota media obtenida por cada uno de ellos.   \n",
    "Nota: si se introduce el nombre de un alumno que ya existe el programa nos dará un error."
   ]
  },
  {
   "cell_type": "markdown",
   "metadata": {},
   "source": [
    "**4.5 Ejercicio 5 (1.2 puntos)**  \n",
    "Crea una tupla con los meses del año, pide números al usuario, si el número está entre 1 y la longitud máxima de la tupla,   \n",
    "muestra el contenido de esa posición sino muestra un mensaje de error. El programa termina cuando el usuario introduce un cero."
   ]
  },
  {
   "cell_type": "code",
   "execution_count": 53,
   "metadata": {},
   "outputs": [
    {
     "name": "stdout",
     "output_type": "stream",
     "text": [
      "12\n"
     ]
    }
   ],
   "source": [
    "año = ('Enero', 'Febrero', 'Marzo', 'Abril', 'Mayo', 'Junio', 'Julio', 'Agosto', 'Septiembre', 'Octubre', 'Noviembre', 'Diciembre')\n",
    "numero = int(input(\"Ingresa un numero\"))\n",
    "indice_tupla = numero - 1\n",
    "print(len(año))\n",
    "if int(numero) in range(1,len(año)):\n",
    "   año[int(indice_tupla)]\n",
    "else: \n",
    "    print('Error, no se encontro nada en esa posicion')\n"
   ]
  }
 ],
 "metadata": {
  "kernelspec": {
   "display_name": "Python 3.10.5 64-bit (windows store)",
   "language": "python",
   "name": "python3"
  },
  "language_info": {
   "codemirror_mode": {
    "name": "ipython",
    "version": 3
   },
   "file_extension": ".py",
   "mimetype": "text/x-python",
   "name": "python",
   "nbconvert_exporter": "python",
   "pygments_lexer": "ipython3",
   "version": "3.10.5"
  },
  "orig_nbformat": 4,
  "vscode": {
   "interpreter": {
    "hash": "541f1ccb820e06d22b0e0ca226fd1b36bbd00a40fedd51f8e91c1934c9becc0a"
   }
  }
 },
 "nbformat": 4,
 "nbformat_minor": 2
}
