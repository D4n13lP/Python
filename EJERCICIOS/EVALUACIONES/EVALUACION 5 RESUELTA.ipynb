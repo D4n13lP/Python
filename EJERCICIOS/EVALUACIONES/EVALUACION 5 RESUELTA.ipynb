{
 "cells": [
  {
   "cell_type": "markdown",
   "metadata": {},
   "source": [
    "# 5 Práctica 5. Operadores relacionales. (6 puntos) "
   ]
  },
  {
   "cell_type": "markdown",
   "metadata": {},
   "source": [
    "### 5.1 Ejercicio 1 (2 puntos)  \n",
    "Programa que imprima si el número es positivo o negativo, el número debe ser ingresado por consola."
   ]
  },
  {
   "cell_type": "code",
   "execution_count": 4,
   "metadata": {},
   "outputs": [
    {
     "name": "stdout",
     "output_type": "stream",
     "text": [
      "El numero es negativo\n",
      "\n"
     ]
    }
   ],
   "source": [
    "numero = input('Ingresa un numero\\n')\n",
    "if int(numero) > 0:\n",
    "    print('El numero es positivo\\n')\n",
    "elif int(numero) == 0:\n",
    "    print('El numero es neutral\\n')\n",
    "else: \n",
    "    print('El numero es negativo\\n')"
   ]
  },
  {
   "cell_type": "markdown",
   "metadata": {},
   "source": [
    "### 5.2 Ejercicio 2 (2 puntos)\n",
    "Programa que imprima si el número ingresado esta en el rango de 1 a 7, el número se solicita por consola."
   ]
  },
  {
   "cell_type": "code",
   "execution_count": 21,
   "metadata": {},
   "outputs": [
    {
     "name": "stdout",
     "output_type": "stream",
     "text": [
      "No esta en el rango\n"
     ]
    }
   ],
   "source": [
    "numero = input('Ingresa un numero\\n')\n",
    "if int(numero) in range(1,8):\n",
    "    print('El numero esta dentro del rango\\n')\n",
    "else:\n",
    "    print('No esta en el rango')\n"
   ]
  },
  {
   "cell_type": "markdown",
   "metadata": {},
   "source": [
    "### 5.3 Ejercicio 3 (2 puntos)\n",
    "Programa que solicite un monto y que solicite el interés mensual, si el interés es mayor al 30% nos imprimirá que es incorrecto, si es menor realizará el cálculo e imprimira el monto con su interés adicionado."
   ]
  },
  {
   "cell_type": "code",
   "execution_count": 1,
   "metadata": {},
   "outputs": [
    {
     "name": "stdout",
     "output_type": "stream",
     "text": [
      "$ 11500\n",
      "Interes: $ 2875.0\n",
      "Total: $ 14375\n"
     ]
    }
   ],
   "source": [
    "monto = input('Ingresa el importe total\\n')\n",
    "interes = input('¿De cuanto es el interes?\\n')\n",
    "print(f\"$ {monto}\")\n",
    "\n",
    "if int(interes) in range(0, 31):\n",
    "    print('Interes:', '$', int(monto) * int(interes)/ 100) \n",
    "    extra = int(monto) * int(interes)/ 100\n",
    "    total = int(monto) + int(extra)\n",
    "    print(f'Total: $ {total}')\n",
    "else:\n",
    "    print('Es incorrecto')"
   ]
  }
 ],
 "metadata": {
  "kernelspec": {
   "display_name": "Python 3.10.5 64-bit",
   "language": "python",
   "name": "python3"
  },
  "language_info": {
   "codemirror_mode": {
    "name": "ipython",
    "version": 3
   },
   "file_extension": ".py",
   "mimetype": "text/x-python",
   "name": "python",
   "nbconvert_exporter": "python",
   "pygments_lexer": "ipython3",
   "version": "3.10.5"
  },
  "orig_nbformat": 4,
  "vscode": {
   "interpreter": {
    "hash": "32f2fe102a4f10662d8c13f75131e1ba377b7194060421a642fdea27c55fc65a"
   }
  }
 },
 "nbformat": 4,
 "nbformat_minor": 2
}
