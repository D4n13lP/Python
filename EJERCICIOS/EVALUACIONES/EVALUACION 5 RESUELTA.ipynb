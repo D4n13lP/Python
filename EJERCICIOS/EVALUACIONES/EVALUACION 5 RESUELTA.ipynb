{
 "cells": [
  {
   "cell_type": "markdown",
   "metadata": {},
   "source": [
    "# 5 Práctica 5. Operadores relacionales. (6 puntos) "
   ]
  },
  {
   "cell_type": "markdown",
   "metadata": {},
   "source": [
    "### 5.1 Ejercicio 1 (2 puntos)  \n",
    "Programa que imprima si el número es positivo o negativo"
   ]
  },
  {
   "cell_type": "code",
   "execution_count": 4,
   "metadata": {},
   "outputs": [
    {
     "name": "stdout",
     "output_type": "stream",
     "text": [
      "El numero es negativo\n",
      "\n"
     ]
    }
   ],
   "source": [
    "numero = input('Ingresa un numero\\n')\n",
    "if int(numero) > 0:\n",
    "    print('El numero es positivo\\n')\n",
    "elif int(numero) == 0:\n",
    "    print('El numero es neutral\\n')\n",
    "else: \n",
    "    print('El numero es negativo\\n')"
   ]
  },
  {
   "cell_type": "markdown",
   "metadata": {},
   "source": [
    "### 5.2 Ejercicio 2 (2 puntos)\n",
    "Programa que imprima si el número ingresado esta en el rango de 1 a 7"
   ]
  },
  {
   "cell_type": "code",
   "execution_count": 21,
   "metadata": {},
   "outputs": [
    {
     "name": "stdout",
     "output_type": "stream",
     "text": [
      "No esta en el rango\n"
     ]
    }
   ],
   "source": [
    "numero = input('Ingresa un numero\\n')\n",
    "if int(numero) in range(1,8):\n",
    "    print('El numero esta dentro del rango\\n')\n",
    "else:\n",
    "    print('No esta en el rango')\n"
   ]
  },
  {
   "cell_type": "markdown",
   "metadata": {},
   "source": [
    "### 5.3 Ejercicio 3 (2 puntos)\n",
    "Programa si el interés es mayor al 30%, sino informa el importe total:\n"
   ]
  },
  {
   "cell_type": "code",
   "execution_count": null,
   "metadata": {},
   "outputs": [],
   "source": [
    "total = input('Ingresa el importe total\\n')\n",
    "interes = input('¿De cuanto es el interes?\\n')\n",
    "cantidad = input('')"
   ]
  }
 ],
 "metadata": {
  "kernelspec": {
   "display_name": "Python 3.10.5 64-bit",
   "language": "python",
   "name": "python3"
  },
  "language_info": {
   "codemirror_mode": {
    "name": "ipython",
    "version": 3
   },
   "file_extension": ".py",
   "mimetype": "text/x-python",
   "name": "python",
   "nbconvert_exporter": "python",
   "pygments_lexer": "ipython3",
   "version": "3.10.5"
  },
  "orig_nbformat": 4,
  "vscode": {
   "interpreter": {
    "hash": "32f2fe102a4f10662d8c13f75131e1ba377b7194060421a642fdea27c55fc65a"
   }
  }
 },
 "nbformat": 4,
 "nbformat_minor": 2
}
