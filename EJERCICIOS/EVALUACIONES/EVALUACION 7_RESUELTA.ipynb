{
 "cells": [
  {
   "cell_type": "markdown",
   "metadata": {},
   "source": [
    "# Práctica 7. Programación orientada a objetos. (6 puntos)"
   ]
  },
  {
   "cell_type": "markdown",
   "metadata": {},
   "source": [
    "## Ejercicio 1 (2 puntos)\n",
    "Vamos a crear una clase llamada Persona. Sus atributos son: nombre, edad y\n",
    "DNI. Construye los siguientes métodos para la clase:\n",
    "\n",
    "● Un constructor, donde los datos pueden estar vacíos.\n",
    "\n",
    "● Los setters y getters para cada uno de los atributos. Hay que validar las\n",
    "entradas de datos.\n",
    "\n",
    "● mostrar(): Muestra los datos de la persona.\n",
    "\n",
    "● esMayorDeEdad(): Devuelve un valor lógico indicando si es mayor de edad."
   ]
  },
  {
   "cell_type": "code",
   "execution_count": 15,
   "metadata": {},
   "outputs": [
    {
     "name": "stdout",
     "output_type": "stream",
     "text": [
      "Debes escribir un número positivo.\n",
      "Los datos de la persona son:\n",
      "\n",
      " Nombre: ISAAC ORTEGA LOPEZ\n",
      " Edad: 29\n",
      " DNI:ORLI0712HM\n",
      "\n",
      "Es mayor de edad\n"
     ]
    }
   ],
   "source": [
    "class Persona():\n",
    "    def __init__(self, nombre, edad, dni):\n",
    "       self.name = nombre\n",
    "       self.age = edad\n",
    "       self.dni = dni\n",
    "    def deploy(self):\n",
    "        print(f'Los datos de la persona son:\\n\\n Nombre: {self.name}\\n Edad: {self.age}\\n DNI:{self.dni}\\n')\n",
    "    def overAge(self):\n",
    "        if (self.age >= 18):\n",
    "            print('Es mayor de edad')\n",
    "        else: ('Es menor de edad')\n",
    "#Se declaran los argumentos para pedir la informacion por teclado y posteriormente pasarla a los objetos\n",
    "nombre = input('Ingrese un nombre')\n",
    "edad = 0\n",
    "while (True):\n",
    "    try:\n",
    "        edad = int(input(\"Escribe tu edad: \"))\n",
    "    except ValueError:\n",
    "        print(\"Debes escribir un número.\")\n",
    "        continue\n",
    "\n",
    "    if edad < 0:\n",
    "        print(\"Debes escribir un número positivo.\")\n",
    "        continue\n",
    "    else:\n",
    "        break\n",
    "dni = input('Ingrese el DNI')\n",
    "# Se instancian los objetos\n",
    "persona1 = Persona(nombre.upper(), edad, dni.upper())\n",
    "persona1.deploy()\n",
    "persona1.overAge()\n",
    "\n",
    "\n",
    "\n"
   ]
  },
  {
   "cell_type": "markdown",
   "metadata": {},
   "source": [
    "## Ejercicio 2 (2 puntos)\n",
    "Crea una clase llamada Cuenta que tendrá los siguientes atributos: titular (que es\n",
    "una persona) y cantidad (puede tener decimales). El titular será obligatorio y la\n",
    "cantidad es opcional. Construye los siguientes métodos para la clase:\n",
    "\n",
    "● Un constructor, donde los datos pueden estar vacíos.\n",
    "\n",
    "● Los setters y getters para cada uno de los atributos. El atributo no se puede\n",
    "modificar directamente, sólo ingresando o retirando dinero.\n",
    "\n",
    "● mostrar(): Muestra los datos de la cuenta.\n",
    "\n",
    "● ingresar(cantidad): se ingresa una cantidad a la cuenta, si la cantidad\n",
    "introducida es negativa, no se hará nada.\n",
    "\n",
    "● retirar(cantidad): se retira una cantidad a la cuenta. La cuenta puede estar\n",
    "en números rojos."
   ]
  },
  {
   "cell_type": "code",
   "execution_count": 2,
   "metadata": {},
   "outputs": [
    {
     "name": "stdout",
     "output_type": "stream",
     "text": [
      "Titular: Daniel Pineda\n",
      " Saldo: 7000\n"
     ]
    }
   ],
   "source": [
    "class Cuenta():\n",
    "    def __init__(self, titular, cantidad):\n",
    "        self.__titular = titular\n",
    "        self.__cantidad = cantidad\n",
    "#Setters y getters para los atributos\n",
    "    @property\n",
    "    def titular(self):\n",
    "        return self.__titular\n",
    "    \n",
    "    @titular.setter\n",
    "    def titular(self, cambio_titular):\n",
    "        print (\"Modificando nombre..\")\n",
    "        self.__titular = cambio_titular\n",
    "        print (\"El nombre se ha modificado por\")\n",
    "        print(self.__titular)\n",
    "\n",
    "    @property   \n",
    "    def cantidad(self):\n",
    "        return self.__cantidad \n",
    "    \n",
    "    @cantidad.setter\n",
    "    def cantidad(self, modificar_cantidad):\n",
    "        self.__cantidad = modificar_cantidad\n",
    "        print(self.__cantidad)\n",
    "# Metodos de la clase\n",
    "    def mostrar(self):\n",
    "        print (f'Titular: {self.__titular}\\n Saldo: {self.__cantidad}')\n",
    "\n",
    "cliente1 = Cuenta('Daniel Pineda', 7000)       \n",
    "cliente1.mostrar()"
   ]
  },
  {
   "cell_type": "markdown",
   "metadata": {},
   "source": [
    "## Ejercicio 3 (2 puntos)\n",
    "Vamos a definir ahora una “Cuenta Joven”, para ello vamos a crear una nueva\n",
    "clase Cuenta Joven que deriva de la anterior. Cuando se crea esta nueva clase,\n",
    "además del titular y la cantidad se debe guardar una bonificación que estará\n",
    "expresada en tanto por ciento.Construye los siguientes métodos para la clase:\n",
    "\n",
    "● Un constructor.\n",
    "\n",
    "● Los setters y getters para el nuevo atributo.\n",
    "\n",
    "● En esta ocasión los titulares de este tipo de cuenta tienen que ser mayor de\n",
    "edad;, por lo tanto hay que crear un método es Titular Válido ( ) que\n",
    "devuelve verdadero si el titular es mayor de edad pero menor de 25 años y\n",
    "falso en caso contrario.\n",
    "\n",
    "● Además la retirada de dinero sólo se podrá hacer si el titular es válido.\n",
    "\n",
    "● El método mostrar() debe devolver el mensaje de “Cuenta Joven” y la\n",
    "bonificación de la cuenta.\n",
    "\n",
    "● Piensa los métodos heredados de la clase madre que hay que reescribir."
   ]
  },
  {
   "cell_type": "code",
   "execution_count": null,
   "metadata": {},
   "outputs": [],
   "source": []
  }
 ],
 "metadata": {
  "kernelspec": {
   "display_name": "Python 3.10.5 64-bit (windows store)",
   "language": "python",
   "name": "python3"
  },
  "language_info": {
   "codemirror_mode": {
    "name": "ipython",
    "version": 3
   },
   "file_extension": ".py",
   "mimetype": "text/x-python",
   "name": "python",
   "nbconvert_exporter": "python",
   "pygments_lexer": "ipython3",
   "version": "3.10.5"
  },
  "orig_nbformat": 4,
  "vscode": {
   "interpreter": {
    "hash": "541f1ccb820e06d22b0e0ca226fd1b36bbd00a40fedd51f8e91c1934c9becc0a"
   }
  }
 },
 "nbformat": 4,
 "nbformat_minor": 2
}
