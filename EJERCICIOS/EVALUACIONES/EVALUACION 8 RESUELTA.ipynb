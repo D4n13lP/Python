{
 "cells": [
  {
   "cell_type": "markdown",
   "metadata": {},
   "source": [
    "# Práctica 8. (6 puntos)\n",
    "\n"
   ]
  },
  {
   "cell_type": "markdown",
   "metadata": {},
   "source": [
    "## Ejercicio 1 (2 puntos)\n",
    "Escribe un programa python que pida un número por teclado y que cree un\n",
    "diccionario cuyas claves sean desde el número 1 hasta el número indicado, y los\n",
    "valores sean los cuadrados de las claves.\n",
    "\n",
    "Ejemplo: si se ingresa el 4 imprima el cuadrado de 1, de 2, de 3 y de 4"
   ]
  },
  {
   "cell_type": "code",
   "execution_count": 19,
   "metadata": {},
   "outputs": [
    {
     "name": "stdout",
     "output_type": "stream",
     "text": [
      "{'1²': 1, '2²': 4, '3²': 9, '4²': 16, '5²': 25, '6²': 36, '7²': 49, '8²': 64, '9²': 81}\n",
      "\n"
     ]
    }
   ],
   "source": [
    "squarepow = {}\n",
    "limite = int(input('Ingresa un numero'))\n",
    "\n",
    "\n",
    "for i in range(1, limite+1):\n",
    "    #squarepow.update({i: i**2})\n",
    "    squarepow[f'{i}²'] = i**2\n",
    "\n",
    "print(f'{squarepow}\\n')    \n",
    "\n",
    "\n"
   ]
  },
  {
   "cell_type": "markdown",
   "metadata": {},
   "source": [
    "## Ejercicio 2 (2 puntos)\n",
    "Escribe un programa que lea una cadena y devuelva un diccionario con la\n",
    "cantidad de apariciones de cada carácter en la cadena.\n",
    "\n",
    "Ejemplo: si se ingresa \"paloma\" p=1 a=2 l=1 o=1 m=1"
   ]
  },
  {
   "cell_type": "code",
   "execution_count": 28,
   "metadata": {},
   "outputs": [
    {
     "name": "stdout",
     "output_type": "stream",
     "text": [
      "['p', 'a', 'l', 'o', 'm', 'a']\n",
      "{'p': 1, 'a': 2, 'l': 1, 'o': 1, 'm': 1}\n"
     ]
    }
   ],
   "source": [
    "lista = []\n",
    "diccionario = {}\n",
    "cadena = input('Ingresa una palabra')\n",
    "lista = [letra for letra in cadena]\n",
    "print(lista)\n",
    "\n",
    "\n",
    "for i in lista:\n",
    "    count = 0\n",
    "    letra = i\n",
    "    count = lista.count(letra)\n",
    "    diccionario[letra] = count      \n",
    "    \n",
    "print(diccionario)\n",
    "\n"
   ]
  },
  {
   "cell_type": "markdown",
   "metadata": {},
   "source": [
    "## Ejercicio 3 (2 puntos)\n",
    "Vamos a crear un programa en python donde vamos a declarar un diccionario para\n",
    "guardar los precios de las distintas frutas. El programa pedirá el nombre de la fruta\n",
    "y la cantidad que se ha vendido y nos mostrará el precio final de la fruta a partir de\n",
    "los datos guardados en el diccionario. Si la fruta no existe nos dará un error. Tras\n",
    "cada consulta el programa nos preguntará si queremos hacer otra consulta.\n"
   ]
  },
  {
   "cell_type": "code",
   "execution_count": 53,
   "metadata": {},
   "outputs": [
    {
     "name": "stdout",
     "output_type": "stream",
     "text": [
      "Precios por Kilogramo\n",
      "manzana: $12 \n",
      "platano: $15 \n",
      "sandia:  $25 \n",
      "mango:   $17 \n",
      "piña:    $24 \n",
      "papaya:  $6 \n",
      "kiwi:    $32 \n",
      "fresa:   $37\n",
      "Lo sentimos mucho, no tenemos \n",
      "Lo sentimos mucho, no tenemos \n",
      "El importe por 1.5 Kg. de kiwi es de: $48.0\n"
     ]
    }
   ],
   "source": [
    "frutas = {'manzana': 12, 'platano': 15, 'sandia': 25, 'mango': 17, 'piña': 24, 'papaya': 6, 'kiwi': 32, 'fresa': 37}\n",
    "#print(frutas)\n",
    "print('''Precios por Kilogramo\n",
    "manzana: $12 \n",
    "platano: $15 \n",
    "sandia:  $25 \n",
    "mango:   $17 \n",
    "piña:    $24 \n",
    "papaya:  $6 \n",
    "kiwi:    $32 \n",
    "fresa:   $37''')\n",
    "\n",
    "consulta = 'si'\n",
    "while (consulta.lower() != 'no'):\n",
    "    try:\n",
    "       nombre_fruta = input('Ingrese la fruta que compro')\n",
    "       producto = frutas[nombre_fruta.lower()]\n",
    "       cantidad = float(input('Ingrese la cantidad en kilos'))\n",
    "       importe = int(producto) * cantidad\n",
    "       print(f'El importe por {cantidad} Kg. de {nombre_fruta} es de: ${importe}')\n",
    "    except KeyError:\n",
    "        print(f'Lo sentimos mucho, no tenemos {nombre_fruta}')   \n",
    "    \n",
    "    consulta = input('Desea hacer otra consulta? si / no\\n')\n"
   ]
  }
 ],
 "metadata": {
  "kernelspec": {
   "display_name": "Python 3.10.5 64-bit (windows store)",
   "language": "python",
   "name": "python3"
  },
  "language_info": {
   "codemirror_mode": {
    "name": "ipython",
    "version": 3
   },
   "file_extension": ".py",
   "mimetype": "text/x-python",
   "name": "python",
   "nbconvert_exporter": "python",
   "pygments_lexer": "ipython3",
   "version": "3.10.5"
  },
  "orig_nbformat": 4,
  "vscode": {
   "interpreter": {
    "hash": "541f1ccb820e06d22b0e0ca226fd1b36bbd00a40fedd51f8e91c1934c9becc0a"
   }
  }
 },
 "nbformat": 4,
 "nbformat_minor": 2
}
