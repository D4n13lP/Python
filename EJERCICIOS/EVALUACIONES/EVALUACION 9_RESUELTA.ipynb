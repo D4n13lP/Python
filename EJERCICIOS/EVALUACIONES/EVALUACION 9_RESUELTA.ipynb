{
 "cells": [
  {
   "cell_type": "markdown",
   "metadata": {},
   "source": [
    "# Práctica 9. Programación funcional. (6 puntos)"
   ]
  },
  {
   "cell_type": "markdown",
   "metadata": {},
   "source": [
    "## Ejercicio 1 (2 puntos)\n",
    "\n",
    "Realice un programa que pregunte aleatoriamente una multiplicación. El programa debe indicar si la respuesta ha sido correcta o no (en caso que la respuesta sea incorrecta el programa debe indicar cuál es la correcta). El programa preguntará 10 multiplicaciones, y al finalizar mostrará el número de aciertos.\n",
    "Análisis\n",
    "\n",
    "    Hacemos un bucle con 10 iteraciones, en cada iteración se inicializan dos números con un valor aleatorio (de 2 a 10). Se calcula la multiplicación.\n",
    "    Mostramos la multiplicación, y pedimos por teclado el resultado. Si coincide con la multiplicación calculada cuento un acierto, sino escribimos un mensaje de error mostrando el resultado correcto. Cuando salimos del bucle mostramos el número de aciertos.\n",
    "\n",
    "Ejemplo. imprime una multiplicacion (9 * 8 = )por teclado se ingresa la respuesta, eso pasa 10 veces y al final nos imprime cuantas respuestas fueron correctas\n",
    "\n",
    "Recuerda el import random"
   ]
  },
  {
   "cell_type": "code",
   "execution_count": 5,
   "metadata": {},
   "outputs": [
    {
     "name": "stdout",
     "output_type": "stream",
     "text": [
      "1- ¿El producto de: 10 * 10?\n",
      "\u001b[92m\t100: Respuesta correcta\u001b[0m\n",
      "\tLlevas 1 respuestas correctas.\n",
      "2- ¿El producto de: 7 * 6?\n",
      "\u001b[92m\t42: Respuesta correcta\u001b[0m\n",
      "\tLlevas 2 respuestas correctas.\n",
      "3- ¿El producto de: 5 * 4?\n",
      "\u001b[92m\t20: Respuesta correcta\u001b[0m\n",
      "\tLlevas 3 respuestas correctas.\n",
      "4- ¿El producto de: 2 * 9?\n",
      "\u001b[92m\t18: Respuesta correcta\u001b[0m\n",
      "\tLlevas 4 respuestas correctas.\n",
      "5- ¿El producto de: 10 * 3?\n",
      "\u001b[92m\t30: Respuesta correcta\u001b[0m\n",
      "\tLlevas 5 respuestas correctas.\n",
      "6- ¿El producto de: 10 * 5?\n",
      "\u001b[92m\t50: Respuesta correcta\u001b[0m\n",
      "\tLlevas 6 respuestas correctas.\n",
      "7- ¿El producto de: 9 * 3?\n",
      "\u001b[93m\t18: La respuesta correcta era 27\u001b[0m\n",
      "\tLlevas 6 respuestas correctas.\n",
      "8- ¿El producto de: 10 * 9?\n",
      "\u001b[92m\t90: Respuesta correcta\u001b[0m\n",
      "\tLlevas 7 respuestas correctas.\n",
      "9- ¿El producto de: 9 * 4?\n",
      "\u001b[92m\t36: Respuesta correcta\u001b[0m\n",
      "\tLlevas 8 respuestas correctas.\n",
      "10- ¿El producto de: 10 * 3?\n",
      "\u001b[92m\t30: Respuesta correcta\u001b[0m\n",
      "\tLlevas 9 respuestas correctas.\n",
      "\u001b[93m\n",
      "Tuviste 9 aciertos de 10\u001b[0m\n"
     ]
    }
   ],
   "source": [
    "import random\n",
    "def esEntero(ans):                     #Para este programa estando en esta linea del codigo, esta funcion no hace nada por eso se repite lienas mas abajo adentro de la otra funcion\n",
    "   try: \n",
    "      int(ans)\n",
    "      return True\n",
    "   except ValueError:\n",
    "      return False\n",
    "\n",
    "#Esta clase sirve para dar formato a la salida, en líneas posteriores se instanciara 'WARNING' en un 'print' para que el texto se muestre en color amarillo cuando el usuario ingrese una respuesta incorrecta.\n",
    "class bcolors:                     \n",
    "    OK = '\\033[92m' #GREEN          \n",
    "    WARNING = '\\033[93m' #YELLOW\n",
    "    FAIL = '\\033[91m' #RED\n",
    "    RESET = '\\033[0m' #RESET COLOR\n",
    "\n",
    "\n",
    "def multiplicacion():\n",
    "   cont = 1\n",
    "   #ans = 1\n",
    "   cont2 = 0\n",
    "   while int(cont<= 10):\n",
    "      num1 = random.randint(2, 10)\n",
    "      num2 = random.randint(2, 10)\n",
    "      res = num1 * num2\n",
    "      print(f'{cont}- ¿El producto de: {num1} * {num2}?')\n",
    "      ans = (input('Respuesta:'))\n",
    "      #Esta funcion valida si la variable 'ans' la cual su valor se pide por teclado, es de tipo entero retorna un valor booleano de \"True\" de lo contrario retornara \"False\"\n",
    "      def esEntero(ans):           \n",
    "         try: \n",
    "            int(ans)\n",
    "            return True\n",
    "         except ValueError:\n",
    "            return False\n",
    "      #El siguiente bucle se va a romper en cuanto la funcion 'esEntero' retorne un valor de \"True\" si la variable 'ans' recibe un valor que no sea entero 'esEntero' retornara 'False'\n",
    "      while (esEntero(ans) == False):\n",
    "         print('\\tPor favor ingrese unicamnte numeros')\n",
    "         ans = (input('Respuesta:'))\n",
    "      if(int(ans) == res):\n",
    "         print(f'{bcolors.OK}\\t{ans}: Respuesta correcta{bcolors.RESET}')\n",
    "         cont2 += 1\n",
    "      else: print(f'{bcolors.WARNING}\\t{ans}: La respuesta correcta era {res}{bcolors.RESET}'  )\n",
    "      cont+=1\n",
    "      print(f'\\tLlevas {cont2} respuestas correctas.')\n",
    "      if (cont2 == 10):\n",
    "         print(F'{bcolors.OK}\\n¡Felicidades! Tuviste todas las respuetas correctas.\\n{bcolors.RESET}')\n",
    "      elif (cont == 11):\n",
    "         print(f'{bcolors.WARNING}\\nTuviste {cont2} aciertos de {cont-1}{bcolors.RESET}')\n",
    "\n",
    "#ans = int(input('Respuesta:'))\n",
    "multiplicacion()\n",
    "\n"
   ]
  },
  {
   "cell_type": "markdown",
   "metadata": {},
   "source": [
    "## Ejercicio 2 (2 puntos)\n",
    "\n",
    "Obtener el cuadrado de todos los elementos en la lista.\n",
    "\n",
    "Lista: [1,2,3,4,5,6,7,8,9,10]"
   ]
  },
  {
   "cell_type": "code",
   "execution_count": 10,
   "metadata": {},
   "outputs": [
    {
     "name": "stdout",
     "output_type": "stream",
     "text": [
      "[1, 2, 3, 4, 5, 6, 7, 8, 9, 10]\n",
      "[1, 4, 9, 16, 25, 36, 49, 64, 81, 100]\n"
     ]
    }
   ],
   "source": [
    "lista = [1, 2, 3, 4, 5, 6, 7, 8, 9, 10]\n",
    "lista2 = [i**2 for i in lista]\n",
    "\n",
    "print(lista)\n",
    "print(lista2)\n"
   ]
  },
  {
   "cell_type": "markdown",
   "metadata": {},
   "source": [
    "## Ejercicio 3 (2 puntos)\n",
    "\n",
    "Obtener la cantidad de elementos mayores a 5 en la tupla.\n",
    "\n",
    "tupla = (5,2,6,7,8,10,77,55,2,1,30,4,2,3)"
   ]
  },
  {
   "cell_type": "code",
   "execution_count": 22,
   "metadata": {},
   "outputs": [
    {
     "name": "stdout",
     "output_type": "stream",
     "text": [
      "(5, 2, 6, 7, 8, 10, 77, 55, 2, 1, 30, 4, 2, 3)\n",
      "14\n",
      "[6, 7, 8, 10, 77, 55, 30]\n",
      "La tupla contiene 7 elementos cuyo valor es mayor a 5\n"
     ]
    }
   ],
   "source": [
    "tupla = (5,2,6,7,8,10,77,55,2,1,30,4,2,3)\n",
    "lista = []\n",
    "print(tupla)\n",
    "c = len(tupla)\n",
    "print(c)\n",
    "\n",
    "for i in tupla:\n",
    "    if i > 5:\n",
    "        lista.append(i)\n",
    "cantidad = len(lista)\n",
    "print(lista)\n",
    "print(f'La tupla contiene {cantidad} elementos cuyo valor es mayor a 5')\n",
    "    "
   ]
  },
  {
   "cell_type": "markdown",
   "metadata": {},
   "source": [
    "## Ejercicio 4 (2 puntos)\n",
    "\n",
    "Obtener la suma de todos los elementos en la lista\n",
    "\n",
    "lista = [1,2,3,4]"
   ]
  },
  {
   "cell_type": "code",
   "execution_count": 21,
   "metadata": {},
   "outputs": [
    {
     "name": "stdout",
     "output_type": "stream",
     "text": [
      "El valor de la suma de los elementos presentes en la lista es: 10\n"
     ]
    }
   ],
   "source": [
    "lista = [1, 2, 3, 4]\n",
    "suma = sum(lista)\n",
    "print(f'El valor de la suma de los elementos presentes en la lista es: {suma}')"
   ]
  }
 ],
 "metadata": {
  "kernelspec": {
   "display_name": "Python 3.10.5 64-bit (windows store)",
   "language": "python",
   "name": "python3"
  },
  "language_info": {
   "codemirror_mode": {
    "name": "ipython",
    "version": 3
   },
   "file_extension": ".py",
   "mimetype": "text/x-python",
   "name": "python",
   "nbconvert_exporter": "python",
   "pygments_lexer": "ipython3",
   "version": "3.10.5"
  },
  "orig_nbformat": 4,
  "vscode": {
   "interpreter": {
    "hash": "541f1ccb820e06d22b0e0ca226fd1b36bbd00a40fedd51f8e91c1934c9becc0a"
   }
  }
 },
 "nbformat": 4,
 "nbformat_minor": 2
}
