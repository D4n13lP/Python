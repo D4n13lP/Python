{
 "cells": [
  {
   "cell_type": "markdown",
   "metadata": {},
   "source": [
    "# 6 Práctica \n",
    "Sentencias condicionales. (6 puntos)"
   ]
  },
  {
   "cell_type": "markdown",
   "metadata": {},
   "source": [
    "## Ejercicio 1 (1.5 puntos)\n",
    "Realizar un ejemplo de menú, donde podemos escoger las distintas opciones\n",
    "hasta que seleccionamos la opción de “Salir”.\n",
    "\n",
    "Menú de recomendaciones\n",
    "1. Literatura\n",
    "2. Cine\n",
    "3. Música\n",
    "4. Videojuegos\n",
    "5. Salir\n",
    "\n",
    "### Al ingresar una opcion\n",
    "opcion 1:\n",
    "\n",
    "Lecturas recomendables:\n",
    "\n",
    "* Esperándolo a Tito y otros cuentos de fútbol (Eduardo\n",
    "Sacheri)\n",
    "* El juego de Ender (Orson Scott Card)\n",
    "* El sueño de los héroes (Adolfo Bioy Casares)\n",
    "\n",
    "opcion 2:\n",
    "\n",
    "Películas recomendables:\n",
    "\n",
    "* Matrix (1999)\n",
    "* El último samuray (2003)\n",
    "* Cars (2006)\n",
    "\n",
    "opcion  3:\n",
    "\n",
    "Discos recomendables:\n",
    "\n",
    "* Despedazado por mil partes (La Renga, 1996)\n",
    "* Búfalo (La Mississippi, 2008)\n",
    "* Gaia (Mago de Oz, 2003)\n",
    "\n",
    "opcion 4:\n",
    "\n",
    "* Videojuegos clásicos recomendables\n",
    "* Día del tentáculo (LucasArts, 1993)\n",
    "* Terminal Velocity (Terminal Reality/3D Realms, 1995)\n",
    "* Death Rally (Remedy/Apogee, 1996)\n",
    "\n",
    "opcion  5:\n",
    "\n",
    "Gracias, vuelva prontos\n",
    "\n",
    "Opción no válida, en caso de ingresar un número fuera de las opciones"
   ]
  },
  {
   "cell_type": "code",
   "execution_count": 16,
   "metadata": {},
   "outputs": [
    {
     "name": "stdout",
     "output_type": "stream",
     "text": [
      "Videojuegos clásicos recomendables:\n",
      "\n",
      "        Día del tentáculo (LucasArts, 1993)\n",
      "        Terminal Velocity (Terminal Reality/3D Realms, 1995)\n",
      "        Death Rally (Remedy/Apogee, 1996)\n",
      "\n",
      "\n",
      "Videojuegos clásicos recomendables:\n",
      "\n",
      "        Día del tentáculo (LucasArts, 1993)\n",
      "        Terminal Velocity (Terminal Reality/3D Realms, 1995)\n",
      "        Death Rally (Remedy/Apogee, 1996)\n",
      "\n",
      "\n",
      "opcion no valida\n",
      "opcion no valida\n"
     ]
    }
   ],
   "source": [
    "option = '0'\n",
    "\n",
    "print('''MENU DE  RECOMENDACIONES\n",
    "1- Literatura\n",
    "2- Cine \n",
    "3- Musica\n",
    "4- Videojuegos\n",
    "5- Salir\n",
    "''')\n",
    "\n",
    "while (True):\n",
    "    option = input('Ingrese el numero correspondiente a su eleccion')\n",
    "    if (option == '1'):\n",
    "        print('''Lecturas Recomendadas.\\n\n",
    "        Esperándolo a Tito y otros cuentos de fútbol (Eduardo Sacheri)\n",
    "        El juego de Ender (Orson Scott Card)\n",
    "        El sueño de los héroes (Adolfo Bioy Casares)\\n\\n''')\n",
    "    elif (option == '2'):\n",
    "        print('''Películas recomendables:\\n\n",
    "        Matrix (1999)\n",
    "        El último samuray (2003)\n",
    "        Cars (2006)\\n\\n''')\n",
    "    elif (option == '3'):\n",
    "        print('''Discos recomendables:\\n\n",
    "        Despedazado por mil partes (La Renga, 1996)\n",
    "        Búfalo (La Mississippi, 2008)\n",
    "        Gaia (Mago de Oz, 2003)\\n\\n''')\n",
    "    elif (option == '4'):\n",
    "        print('''Videojuegos clásicos recomendables:\\n\n",
    "        Día del tentáculo (LucasArts, 1993)\n",
    "        Terminal Velocity (Terminal Reality/3D Realms, 1995)\n",
    "        Death Rally (Remedy/Apogee, 1996)\\n\\n''')\n",
    "    elif (option == '5'):\n",
    "        break\n",
    "    else: print('opcion no valida')\n",
    "\n"
   ]
  },
  {
   "cell_type": "markdown",
   "metadata": {},
   "source": [
    "## Ejercicio 2 (1.5 puntos)\n",
    "Se pide por teclado un número y nos imprime los números primos que hay previos a este número.\n",
    "\n",
    "Ejemplo: si ingresamos el 10 nos imprima del 1 a ese 10 cuales números son primos."
   ]
  },
  {
   "cell_type": "code",
   "execution_count": 3,
   "metadata": {},
   "outputs": [
    {
     "name": "stdout",
     "output_type": "stream",
     "text": [
      "Ingreso 100, los numeros primos son: \n",
      "[1, 2, 3, 5, 7, 11, 13, 17, 19, 23, 29, 31, 37, 41, 43, 47, 53, 59, 61, 67, 71, 73, 79, 83, 89, 97]\n"
     ]
    }
   ],
   "source": [
    "limite = int(input('Ingresa un numero'))\n",
    "primo = []\n",
    "count = 1\n",
    "count2 = 0\n",
    "for i in range(1, limite + 1):\n",
    "    while (count <= limite):\n",
    "        esprimo = i % count\n",
    "        count += 1\n",
    "        if (esprimo == 0):\n",
    "            count2 += 1\n",
    "        if (count2 <= 2 and count == limite):\n",
    "            primo.append(i)\n",
    "    count2 = 0\n",
    "    count = 1\n",
    "print(f'Ingreso {limite}, los numeros primos son: \\n{primo}')\n"
   ]
  },
  {
   "cell_type": "markdown",
   "metadata": {},
   "source": [
    "## Ejercicio 3 (1.5 puntos)\n",
    "Una persona adquirió un producto para pagar en 20 meses. El primer mes pagó\n",
    "10 €, el segundo 20 €, el tercero 40 € y así sucesivamente. Realizar un algoritmo\n",
    "para determinar cuánto debe pagar mensualmente y el total de lo que pagó\n",
    "después de los 20 meses.\n",
    "\n",
    "Al finalizar los 20 meses pago en total:\n",
    "\n",
    "primer mes pago 10, segundo mes pago 20, tercer mes pago 30, cuarto mes pago 40, etc."
   ]
  },
  {
   "cell_type": "code",
   "execution_count": 7,
   "metadata": {},
   "outputs": [
    {
     "name": "stdout",
     "output_type": "stream",
     "text": [
      "Mes 1: 10 €\n",
      "Mes 2: 20 €\n",
      "Mes 3: 30 €\n",
      "Mes 4: 40 €\n",
      "Mes 5: 50 €\n",
      "Mes 6: 60 €\n",
      "Mes 7: 70 €\n",
      "Mes 8: 80 €\n",
      "Mes 9: 90 €\n",
      "Mes 10: 100 €\n",
      "Mes 11: 110 €\n",
      "Mes 12: 120 €\n",
      "Mes 13: 130 €\n",
      "Mes 14: 140 €\n",
      "Mes 15: 150 €\n",
      "Mes 16: 160 €\n",
      "Mes 17: 170 €\n",
      "Mes 18: 180 €\n",
      "Mes 19: 190 €\n",
      "Mes 20: 200 €\n"
     ]
    }
   ],
   "source": [
    "planPago = 20\n",
    "pago = 0\n",
    "mensualidad = 10\n",
    "i = 1\n",
    "while (i <= planPago):\n",
    "   mensualidad = int(pago)\n",
    "   pago = mensualidad + 10\n",
    "   print(f'Mes {i}: {pago} €')\n",
    "   i+=1\n",
    "\n"
   ]
  }
 ],
 "metadata": {
  "kernelspec": {
   "display_name": "Python 3.10.5 64-bit (windows store)",
   "language": "python",
   "name": "python3"
  },
  "language_info": {
   "codemirror_mode": {
    "name": "ipython",
    "version": 3
   },
   "file_extension": ".py",
   "mimetype": "text/x-python",
   "name": "python",
   "nbconvert_exporter": "python",
   "pygments_lexer": "ipython3",
   "version": "3.10.5"
  },
  "orig_nbformat": 4,
  "vscode": {
   "interpreter": {
    "hash": "541f1ccb820e06d22b0e0ca226fd1b36bbd00a40fedd51f8e91c1934c9becc0a"
   }
  }
 },
 "nbformat": 4,
 "nbformat_minor": 2
}
