{
 "cells": [
  {
   "cell_type": "markdown",
   "metadata": {},
   "source": [
    "# 6 Práctica \n",
    "Sentencias condicionales. (6 puntos)"
   ]
  },
  {
   "cell_type": "markdown",
   "metadata": {},
   "source": [
    "## Ejercicio 1 (1.5 puntos)\n",
    "Realizar un ejemplo de menú, donde podemos escoger las distintas opciones\n",
    "hasta que seleccionamos la opción de “Salir”.\n",
    "\n",
    "Menú de recomendaciones\n",
    "1. Literatura\n",
    "2. Cine\n",
    "3. Música\n",
    "4. Videojuegos\n",
    "5. Salir\n",
    "\n",
    "### Al ingresar una opcion\n",
    "opcion 1:\n",
    "\n",
    "Lecturas recomendables:\n",
    "\n",
    "* Esperándolo a Tito y otros cuentos de fútbol (Eduardo\n",
    "Sacheri)\n",
    "* El juego de Ender (Orson Scott Card)\n",
    "* El sueño de los héroes (Adolfo Bioy Casares)\n",
    "\n",
    "opcion 2:\n",
    "\n",
    "Películas recomendables:\n",
    "\n",
    "* Matrix (1999)\n",
    "* El último samuray (2003)\n",
    "* Cars (2006)\n",
    "\n",
    "opcion  3:\n",
    "\n",
    "Discos recomendables:\n",
    "\n",
    "* Despedazado por mil partes (La Renga, 1996)\n",
    "* Búfalo (La Mississippi, 2008)\n",
    "* Gaia (Mago de Oz, 2003)\n",
    "\n",
    "opcion 4:\n",
    "\n",
    "* Videojuegos clásicos recomendables\n",
    "* Día del tentáculo (LucasArts, 1993)\n",
    "* Terminal Velocity (Terminal Reality/3D Realms, 1995)\n",
    "* Death Rally (Remedy/Apogee, 1996)\n",
    "\n",
    "opcion  5:\n",
    "\n",
    "Gracias, vuelva prontos\n",
    "\n",
    "Opción no válida, en caso de ingresar un número fuera de las opciones"
   ]
  },
  {
   "cell_type": "code",
   "execution_count": 16,
   "metadata": {},
   "outputs": [
    {
     "name": "stdout",
     "output_type": "stream",
     "text": [
      "Videojuegos clásicos recomendables:\n",
      "\n",
      "        Día del tentáculo (LucasArts, 1993)\n",
      "        Terminal Velocity (Terminal Reality/3D Realms, 1995)\n",
      "        Death Rally (Remedy/Apogee, 1996)\n",
      "\n",
      "\n",
      "Videojuegos clásicos recomendables:\n",
      "\n",
      "        Día del tentáculo (LucasArts, 1993)\n",
      "        Terminal Velocity (Terminal Reality/3D Realms, 1995)\n",
      "        Death Rally (Remedy/Apogee, 1996)\n",
      "\n",
      "\n",
      "opcion no valida\n",
      "opcion no valida\n"
     ]
    }
   ],
   "source": [
    "option = '0'\n",
    "\n",
    "print('''MENU DE  RECOMENDACIONES\n",
    "1- Literatura\n",
    "2- Cine \n",
    "3- Musica\n",
    "4- Videojuegos\n",
    "5- Salir\n",
    "''')\n",
    "\n",
    "while (True):\n",
    "    option = input('Ingrese el numero correspondiente a su eleccion')\n",
    "    if (option == '1'):\n",
    "        print('''Lecturas Recomendadas.\\n\n",
    "        Esperándolo a Tito y otros cuentos de fútbol (Eduardo Sacheri)\n",
    "        El juego de Ender (Orson Scott Card)\n",
    "        El sueño de los héroes (Adolfo Bioy Casares)\\n\\n''')\n",
    "    elif (option == '2'):\n",
    "        print('''Películas recomendables:\\n\n",
    "        Matrix (1999)\n",
    "        El último samuray (2003)\n",
    "        Cars (2006)\\n\\n''')\n",
    "    elif (option == '3'):\n",
    "        print('''Discos recomendables:\\n\n",
    "        Despedazado por mil partes (La Renga, 1996)\n",
    "        Búfalo (La Mississippi, 2008)\n",
    "        Gaia (Mago de Oz, 2003)\\n\\n''')\n",
    "    elif (option == '4'):\n",
    "        print('''Videojuegos clásicos recomendables:\\n\n",
    "        Día del tentáculo (LucasArts, 1993)\n",
    "        Terminal Velocity (Terminal Reality/3D Realms, 1995)\n",
    "        Death Rally (Remedy/Apogee, 1996)\\n\\n''')\n",
    "    elif (option == '5'):\n",
    "        break\n",
    "    else: print('opcion no valida')\n",
    "\n"
   ]
  },
  {
   "cell_type": "markdown",
   "metadata": {},
   "source": [
    "## Ejercicio 2 (1.5 puntos)\n",
    "Se pide por teclado un número y nos imprime los números primos que hay previos a este número.\n",
    "\n",
    "Ejemplo: si ingresamos el 10 nos imprima del 1 a ese 10 cuales números son primos."
   ]
  },
  {
   "cell_type": "code",
   "execution_count": 31,
   "metadata": {},
   "outputs": [
    {
     "name": "stdout",
     "output_type": "stream",
     "text": [
      "1\n"
     ]
    },
    {
     "ename": "KeyboardInterrupt",
     "evalue": "",
     "output_type": "error",
     "traceback": [
      "\u001b[1;31m---------------------------------------------------------------------------\u001b[0m",
      "\u001b[1;31mKeyboardInterrupt\u001b[0m                         Traceback (most recent call last)",
      "\u001b[1;32mUntitled-1.ipynb Celda 5\u001b[0m in \u001b[0;36m<cell line: 4>\u001b[1;34m()\u001b[0m\n\u001b[0;32m      <a href='vscode-notebook-cell:Untitled-1.ipynb?jupyter-notebook#ch0000004untitled?line=3'>4</a>\u001b[0m \u001b[39mwhile\u001b[39;00m (count \u001b[39m<\u001b[39m\u001b[39m=\u001b[39m \u001b[39mint\u001b[39m(numero)):\n\u001b[0;32m      <a href='vscode-notebook-cell:Untitled-1.ipynb?jupyter-notebook#ch0000004untitled?line=4'>5</a>\u001b[0m    cont \u001b[39m=\u001b[39m \u001b[39m1\u001b[39m\n\u001b[1;32m----> <a href='vscode-notebook-cell:Untitled-1.ipynb?jupyter-notebook#ch0000004untitled?line=5'>6</a>\u001b[0m    \u001b[39mwhile\u001b[39;00m (count \u001b[39m%\u001b[39;49m cont \u001b[39m==\u001b[39;49m \u001b[39m0\u001b[39;49m):\n\u001b[0;32m      <a href='vscode-notebook-cell:Untitled-1.ipynb?jupyter-notebook#ch0000004untitled?line=6'>7</a>\u001b[0m       primo \u001b[39m+\u001b[39m\u001b[39m=\u001b[39m \u001b[39m1\u001b[39m\n\u001b[0;32m      <a href='vscode-notebook-cell:Untitled-1.ipynb?jupyter-notebook#ch0000004untitled?line=7'>8</a>\u001b[0m       \u001b[39mif\u001b[39;00m (primo \u001b[39m==\u001b[39m \u001b[39m2\u001b[39m):\n",
      "\u001b[1;31mKeyboardInterrupt\u001b[0m: "
     ]
    }
   ],
   "source": [
    "count = 1\n",
    "numero = int(input('Ingresa un numero'))\n",
    "primo = 0\n",
    "while (count <= int(numero)):\n",
    "   cont = 1\n",
    "   while (count % cont == 0):\n",
    "      primo += 1\n",
    "      if (primo == 2):\n",
    "        print(count)\n",
    "   primo =1\n"
   ]
  },
  {
   "cell_type": "code",
   "execution_count": 19,
   "metadata": {},
   "outputs": [
    {
     "name": "stdout",
     "output_type": "stream",
     "text": [
      "2\n"
     ]
    }
   ],
   "source": [
    "res = 7 % 5 \n",
    "print (res)"
   ]
  },
  {
   "cell_type": "markdown",
   "metadata": {},
   "source": [
    "## Ejercicio 3 (1.5 puntos)\n",
    "Una persona adquirió un producto para pagar en 20 meses. El primer mes pagó\n",
    "10 €, el segundo 20 €, el tercero 40 € y así sucesivamente. Realizar un algoritmo\n",
    "para determinar cuánto debe pagar mensualmente y el total de lo que pagó\n",
    "después de los 20 meses.\n",
    "\n",
    "Al finalizar los 20 meses pago en total:\n",
    "\n",
    "primer mes pago 10, segundo mes pago 20, tercer mes pago 30, cuarto mes pago 40, etc."
   ]
  },
  {
   "cell_type": "code",
   "execution_count": null,
   "metadata": {},
   "outputs": [],
   "source": []
  }
 ],
 "metadata": {
  "kernelspec": {
   "display_name": "Python 3.10.5 64-bit (windows store)",
   "language": "python",
   "name": "python3"
  },
  "language_info": {
   "codemirror_mode": {
    "name": "ipython",
    "version": 3
   },
   "file_extension": ".py",
   "mimetype": "text/x-python",
   "name": "python",
   "nbconvert_exporter": "python",
   "pygments_lexer": "ipython3",
   "version": "3.10.5"
  },
  "orig_nbformat": 4,
  "vscode": {
   "interpreter": {
    "hash": "541f1ccb820e06d22b0e0ca226fd1b36bbd00a40fedd51f8e91c1934c9becc0a"
   }
  }
 },
 "nbformat": 4,
 "nbformat_minor": 2
}
