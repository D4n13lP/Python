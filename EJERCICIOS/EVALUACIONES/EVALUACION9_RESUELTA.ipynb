{
 "cells": [
  {
   "cell_type": "markdown",
   "metadata": {},
   "source": [
    "# Práctica 9. Programación funcional. (6 puntos)"
   ]
  },
  {
   "cell_type": "markdown",
   "metadata": {},
   "source": [
    "## Ejercicio 1 (2 puntos)\n",
    "\n",
    "Realice un programa que pregunte aleatoriamente una multiplicación. El programa debe indicar si la respuesta ha sido correcta o no (en caso que la respuesta sea incorrecta el programa debe indicar cuál es la correcta). El programa preguntará 10 multiplicaciones, y al finalizar mostrará el número de aciertos.\n",
    "Análisis\n",
    "\n",
    "    Hacemos un bucle con 10 iteraciones, en cada iteración se inicializan dos números con un valor aleatorio (de 2 a 10). Se calcula la multiplicación.\n",
    "    Mostramos la multiplicación, y pedimos por teclado el resultado. Si coincide con la multiplicación calculada cuento un acierto, sino escribimos un mensaje de error mostrando el resultado correcto. Cuando salimos del bucle mostramos el número de aciertos.\n",
    "\n",
    "Ejemplo. imprime una multiplicacion (9 * 8 = )por teclado se ingresa la respuesta, eso pasa 10 veces y al final nos imprime cuantas respuestas fueron correctas\n",
    "\n",
    "Recuerda el import random"
   ]
  },
  {
   "cell_type": "code",
   "execution_count": 10,
   "metadata": {},
   "outputs": [
    {
     "name": "stdout",
     "output_type": "stream",
     "text": [
      "1- El producto de: 10 * 10\n",
      "Respuesta correcta\n",
      "Tuviste 1 respuestas correctas\n",
      "2- El producto de: 8 * 5\n",
      "Respuesta correcta\n",
      "Tuviste 2 respuestas correctas\n",
      "3- El producto de: 9 * 6\n",
      "Respuesta correcta\n",
      "Tuviste 3 respuestas correctas\n",
      "4- El producto de: 10 * 10\n",
      "Respuesta correcta\n",
      "Tuviste 4 respuestas correctas\n",
      "5- El producto de: 7 * 2\n",
      "Respuesta correcta\n",
      "Tuviste 5 respuestas correctas\n",
      "6- El producto de: 6 * 3\n",
      "Respuesta correcta\n",
      "Tuviste 6 respuestas correctas\n",
      "7- El producto de: 3 * 2\n",
      "Respuesta correcta\n",
      "Tuviste 7 respuestas correctas\n",
      "8- El producto de: 5 * 4\n",
      "Respuesta correcta\n",
      "Tuviste 8 respuestas correctas\n",
      "9- El producto de: 4 * 8\n",
      "la respuesta correcta era 32\n",
      "Tuviste 8 respuestas correctas\n",
      "10- El producto de: 5 * 5\n",
      "Respuesta correcta\n",
      "Tuviste 9 respuestas correctas\n"
     ]
    }
   ],
   "source": [
    "import random\n",
    "def multiplicacion():\n",
    "   cont = 1\n",
    "   #ans = 1\n",
    "   cont2 = 0\n",
    "   while int(cont<= 10):\n",
    "      num1 = random.randint(2, 10)\n",
    "      num2 = random.randint(2, 10)\n",
    "      res = num1 * num2\n",
    "      print(f'{cont}- El producto de: {num1} * {num2}')\n",
    "      ans = int(input('Respuesta:'))\n",
    "      if(ans == res):\n",
    "         print('Respuesta correcta')\n",
    "         cont2 += 1\n",
    "      else: print(f'la respuesta correcta era {res}')\n",
    "      cont+=1\n",
    "      print(f'Tuviste {cont2} respuestas correctas')\n",
    "\n",
    "#ans = int(input('Respuesta:'))\n",
    "multiplicacion()"
   ]
  },
  {
   "cell_type": "markdown",
   "metadata": {},
   "source": [
    "## Ejercicio 2 (2 puntos)\n",
    "\n",
    "Obtener el cuadrado de todos los elementos en la lista.\n",
    "\n",
    "Lista: [1,2,3,4,5,6,7,8,9,10]"
   ]
  },
  {
   "cell_type": "markdown",
   "metadata": {},
   "source": [
    "## Ejercicio 3 (2 puntos)\n",
    "\n",
    "Obtener la cantidad de elementos mayores a 5 en la tupla.\n",
    "\n",
    "tupla = (5,2,6,7,8,10,77,55,2,1,30,4,2,3)"
   ]
  },
  {
   "cell_type": "markdown",
   "metadata": {},
   "source": [
    "## Ejercicio 4 (2 puntos)\n",
    "\n",
    "Obtener la suma de todos los elementos en la lista\n",
    "\n",
    "lista = [1,2,3,4]"
   ]
  }
 ],
 "metadata": {
  "kernelspec": {
   "display_name": "Python 3.10.5 64-bit (windows store)",
   "language": "python",
   "name": "python3"
  },
  "language_info": {
   "codemirror_mode": {
    "name": "ipython",
    "version": 3
   },
   "file_extension": ".py",
   "mimetype": "text/x-python",
   "name": "python",
   "nbconvert_exporter": "python",
   "pygments_lexer": "ipython3",
   "version": "3.10.5"
  },
  "orig_nbformat": 4,
  "vscode": {
   "interpreter": {
    "hash": "541f1ccb820e06d22b0e0ca226fd1b36bbd00a40fedd51f8e91c1934c9becc0a"
   }
  }
 },
 "nbformat": 4,
 "nbformat_minor": 2
}
