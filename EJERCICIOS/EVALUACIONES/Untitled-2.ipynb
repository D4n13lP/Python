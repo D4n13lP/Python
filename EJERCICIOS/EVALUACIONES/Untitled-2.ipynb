{
 "cells": [
  {
   "cell_type": "markdown",
   "metadata": {},
   "source": []
  },
  {
   "cell_type": "code",
   "execution_count": 23,
   "metadata": {},
   "outputs": [
    {
     "name": "stdout",
     "output_type": "stream",
     "text": [
      "[1, 2, 3, 4, 5, 6, 7, 8]\n",
      "1\n",
      "2\n",
      "2\n",
      "3\n",
      "3\n",
      "4\n",
      "4\n",
      "4\n",
      "5\n",
      "5\n",
      "6\n",
      "6\n",
      "6\n",
      "6\n",
      "7\n",
      "7\n",
      "8\n",
      "8\n",
      "8\n",
      "8\n"
     ]
    }
   ],
   "source": [
    "limite = int(input('Ingresa un numero'))  #solicitamos un numero el cual va a ser el limite para mostrar los numeros primos previos\n",
    "serie = []                  #creamos una lista en la cual guardaremos los numeros del 1 hasta donde nos indique la variable \"limite\"\n",
    "\n",
    "count = 1    #variable que comienaza con valor de 1 e iremos incrementando para bucles posteriores\n",
    "count2 = 0\n",
    "#Este ciclo for se encarga de guardar en la lista la sucecion del 1 hasta donde indique la variable \"limite\"\n",
    "for count in range (1, limite+1):\n",
    "    serie.append(count)\n",
    "    count += 1\n",
    "count = 1   # Se reinicia la variable para usar en el siguiente bucle\n",
    "print(serie)\n",
    "clis = 1 \n",
    "indice = 0\n",
    "while (count <= limite): #Este bucle termina cuando \"count\" tenga un valor mayor a \"limit\" que es el numero que se pide por teclado\n",
    "   clis = 1\n",
    "   indice = 0\n",
    "   while (clis <= len(serie)):  #Este bucle sirve para recorrer los valores de la lista \"serie\" y evaluar cada valor de \"count\"\n",
    "      esprimo = int(count)\n",
    "      #indice = 0                 #Esta variable sirve para ir sacando los valores de la lista \"serie\"\n",
    "      primo = int(esprimo) % int(serie[indice]) \n",
    "      indice+=1\n",
    "      clis += 1\n",
    "      count2 = 0\n",
    "      if (int(primo) == 0):\n",
    "        count2 += 1\n",
    "        print(int(esprimo))\n",
    "      if (count2 == 2):\n",
    "        print(int(esprimo))\n",
    "      \n",
    "   count += 1\n",
    "   \n",
    "   \n",
    " \n"
   ]
  }
 ],
 "metadata": {
  "kernelspec": {
   "display_name": "Python 3.10.5 64-bit",
   "language": "python",
   "name": "python3"
  },
  "language_info": {
   "codemirror_mode": {
    "name": "ipython",
    "version": 3
   },
   "file_extension": ".py",
   "mimetype": "text/x-python",
   "name": "python",
   "nbconvert_exporter": "python",
   "pygments_lexer": "ipython3",
   "version": "3.10.5"
  },
  "orig_nbformat": 4,
  "vscode": {
   "interpreter": {
    "hash": "e7370f93d1d0cde622a1f8e1c04877d8463912d04d973331ad4851f04de6915a"
   }
  }
 },
 "nbformat": 4,
 "nbformat_minor": 2
}
