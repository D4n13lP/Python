{
 "cells": [
  {
   "cell_type": "code",
   "execution_count": 16,
   "metadata": {},
   "outputs": [
    {
     "name": "stdout",
     "output_type": "stream",
     "text": [
      "[1, 2, 3, 4, 5, 6, 7, 8, 9]\n",
      "[1, 2, 3, 4, 5, 6, 7, 8, 9]\n"
     ]
    }
   ],
   "source": [
    "limite = int(input('Ingresa un numero'))\n",
    "serie = []\n",
    "index = 0\n",
    "cont = 1\n",
    "w = 0\n",
    "for i in range(1, limite+1):\n",
    "    serie.append(i)\n",
    "print(serie)\n",
    "i =0\n",
    "for i in range(0, limite):   \n",
    "    index = i                                     #Test\n",
    "    while (cont <= limite):\n",
    "        if (serie[index] % cont == 0):\n",
    "            w+=1\n",
    "        cont+=1\n",
    "    if (w > 2):\n",
    "        serie.pop(index)\n",
    "print (serie)\n",
    "\n",
    "    \n",
    "\n",
    "\n",
    "\n"
   ]
  },
  {
   "cell_type": "code",
   "execution_count": 54,
   "metadata": {},
   "outputs": [
    {
     "name": "stdout",
     "output_type": "stream",
     "text": [
      "[1, 2, 3, 4, 5, 6, 7]\n",
      "[1, 2, 3, 4, 5, 6, 7]\n"
     ]
    }
   ],
   "source": [
    "limite = int(input('Ingresa un numero\\n'))\n",
    "serie = []\n",
    "count = 1\n",
    "count2 = 0\n",
    "count3 = 1\n",
    "for c in range(1, limite+1):\n",
    "    serie.append(c)\n",
    "print(serie)\n",
    "index = 0\n",
    "for i in serie:\n",
    "    \n",
    "    while (count <= limite):\n",
    "        esprimo = i % count\n",
    "        #print(esprimo)\n",
    "        if(esprimo == 0):\n",
    "            count2+=1\n",
    "        if(count2>2):\n",
    "            del serie[index]\n",
    "        count+=1\n",
    "        index+=1\n",
    "print(serie)\n",
    "   \n",
    "    \n",
    "    \n",
    "        \n",
    "\n",
    "\n",
    "    \n",
    "\n",
    "\n",
    "\n"
   ]
  }
 ],
 "metadata": {
  "kernelspec": {
   "display_name": "Python 3.10.5 64-bit (windows store)",
   "language": "python",
   "name": "python3"
  },
  "language_info": {
   "codemirror_mode": {
    "name": "ipython",
    "version": 3
   },
   "file_extension": ".py",
   "mimetype": "text/x-python",
   "name": "python",
   "nbconvert_exporter": "python",
   "pygments_lexer": "ipython3",
   "version": "3.10.5"
  },
  "orig_nbformat": 4,
  "vscode": {
   "interpreter": {
    "hash": "541f1ccb820e06d22b0e0ca226fd1b36bbd00a40fedd51f8e91c1934c9becc0a"
   }
  }
 },
 "nbformat": 4,
 "nbformat_minor": 2
}
