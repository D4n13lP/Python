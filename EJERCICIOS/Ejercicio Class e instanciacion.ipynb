{
 "cells": [
  {
   "cell_type": "code",
   "execution_count": 5,
   "metadata": {},
   "outputs": [
    {
     "name": "stdout",
     "output_type": "stream",
     "text": [
      "Los datos son : \n",
      "Nombre:  Daniel\n",
      "edad:  29\n",
      "estudios:  [['kinder'], ['primaria'], ['secundaria'], ['preparatoria']]\n",
      "Daniel es mayor de edad  \n"
     ]
    },
    {
     "data": {
      "text/plain": [
       "True"
      ]
     },
     "execution_count": 5,
     "metadata": {},
     "output_type": "execute_result"
    }
   ],
   "source": [
    "class Persona():                                                                \n",
    " def __init__(self,nombre,edad):\n",
    "    self.nombre = nombre\n",
    "    self.edad = edad\n",
    "    self.estudios = ['kinder', 'primaria', 'secundaria','preparatoria', 'universidad']\n",
    "    self.estudios2 = []\n",
    "  \n",
    " def Edad(self):\n",
    "    if self.edad >18:\n",
    "     print(f'{self.nombre} es mayor de edad  ')\n",
    "    else:\n",
    "     print(f'{self.nombre} es menor de edad ')\n",
    "\n",
    " def esEstudios(self,estudio) :\n",
    "   return  estudio in self.estudios #Soy Marcos, aqui se debe ocupar self.estudios dspues de return\n",
    "\n",
    " def imprimir(self):\n",
    "   print('Los datos son : ')\n",
    "   print('Nombre: ',self.nombre)\n",
    "   print('edad: ',self.edad)\n",
    "   print('estudios: ',self.estudios2) #Soy Maribel, aqui falto colocar el 2 en estudios \n",
    "   \n",
    "\n",
    "nombre=input('Ingresa tu nombre ')  #Daniel Pineda Ortega. Los argumentos del objeto \"Persona1\" son variables que se ingresan con el teclado y el codigo se ejecuta de arriba a abajo,\n",
    "edad=int(input('Ingresa tu edad ')) #aqui falta int                             # por lo que estas variables deben estar arriba, antes de que se instancie el objeto.\n",
    "persona1=Persona(nombre,edad)\n",
    "\n",
    "\n",
    "for i in persona1.estudios:\n",
    "  grado = input(f'Estudiaste {[i]} ' ) #soy Daniel, aquí sobra/falta una comilla, quedaria mejor:¿Estudiaste , [i], ?\n",
    "  if grado == 'si':\n",
    "      persona1.estudios2.append([i])\n",
    "  else:\n",
    "      break\n",
    "#print(persona1.estudios2)\n",
    "  \n",
    "persona1.imprimir()\n",
    "\n",
    "persona1.Edad()\n",
    "\n",
    "persona1.esEstudios('primaria')"
   ]
  }
 ],
 "metadata": {
  "kernelspec": {
   "display_name": "Python 3.10.5 64-bit (windows store)",
   "language": "python",
   "name": "python3"
  },
  "language_info": {
   "codemirror_mode": {
    "name": "ipython",
    "version": 3
   },
   "file_extension": ".py",
   "mimetype": "text/x-python",
   "name": "python",
   "nbconvert_exporter": "python",
   "pygments_lexer": "ipython3",
   "version": "3.10.5"
  },
  "orig_nbformat": 4,
  "vscode": {
   "interpreter": {
    "hash": "541f1ccb820e06d22b0e0ca226fd1b36bbd00a40fedd51f8e91c1934c9becc0a"
   }
  }
 },
 "nbformat": 4,
 "nbformat_minor": 2
}
