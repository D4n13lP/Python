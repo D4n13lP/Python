{
 "cells": [
  {
   "cell_type": "markdown",
   "metadata": {},
   "source": [
    "Realiza un cuaderno de Python en Jupiter con el nombre Ejercicio1.ipynb\n",
    "\n",
    "Dentro vaamos a resolver los siguientes problemas:\n",
    "\n",
    "Una línea de código que muestre la fecha de hoy."
   ]
  },
  {
   "cell_type": "code",
   "execution_count": null,
   "metadata": {},
   "outputs": [],
   "source": [
    "from datetime import date\n",
    "\n",
    "print(\"hOY ES: \" + str(date.today()))"
   ]
  },
  {
   "cell_type": "markdown",
   "metadata": {},
   "source": [
    "Construir un convertidor de unidades de centimetros a metros (el formato del resultado deberá ser: X cm son igual a X metros, según el usuarios ingrese la cantidad a convertir)."
   ]
  },
  {
   "cell_type": "code",
   "execution_count": null,
   "metadata": {},
   "outputs": [],
   "source": [
    "dato1 = input('Ingresa la cantidad de centimetros que deseas convertir a metros')\n",
    "resultado = int(dato1) / 100\n",
    "print(str(dato1) + ' cm, son ' + str(resultado) + ' mts')"
   ]
  },
  {
   "cell_type": "markdown",
   "metadata": {},
   "source": [
    "Exploremos cómo podemos crear un programa que pueda calcular la distancia entre dos planetas EN KILOMETROS Y EN MILLAS. Comenzaremos usando dos distancias de planetas al sol: Tierra (149.597.870 km) y Júpiter (778.547.200 km). Calcular cuanta distancia hay en kilometos y en millas entre estos dos planetas.\n",
    "\n"
   ]
  },
  {
   "cell_type": "code",
   "execution_count": null,
   "metadata": {},
   "outputs": [],
   "source": [
    "tierra = 149597870\n",
    "jupiter = 778547200\n",
    "distanciakm = jupiter - tierra\n",
    "distanciamill = distanciakm * 0.6\n",
    "\n",
    "print(' La distancia entre Jupiter y la tierra es de ' + str(distanciakm) + 'KM, y de ' + str(distanciamill) + ' MILLAS')"
   ]
  },
  {
   "cell_type": "markdown",
   "metadata": {},
   "source": [
    "\n",
    "Crear una aplicación para trabajar con números y entrada de usuario\n",
    "\n",
    "Para crear nuestra aplicación, queremos leer la distancia del sol para dos planetas, y luego mostrar la distancia entre los planetas. Haremos esto usando input para leer los valores, int para convertir a entero y luego abs para convertir el resultado en su valor absoluto.\n",
    "\n",
    "PASOS:\n",
    "\n",
    "a) Lee los valores  \n",
    "\n",
    "Usando input, agrega el código para leer la distancia del sol para cada planeta, considerando 2 planetas.\n",
    "b)Convertir a número\n",
    "\n",
    "Debido a que input devuelve valores de cadena, necesitamos convertirlos en números. Para nuestro ejemplo, usaremos int"
   ]
  },
  {
   "cell_type": "code",
   "execution_count": 2,
   "metadata": {},
   "outputs": [],
   "source": [
    "planeta1 = int(input ('Ingresa la distancia del primer planeta'))\n",
    "planeta2 = int(input ('Ingresa la distancia del planeta 2'))\n"
   ]
  },
  {
   "cell_type": "markdown",
   "metadata": {},
   "source": [
    "c)Realizar el cálculo y convertir a valor absoluto\n",
    "\n",
    "Con los valores almacenados como números, ahora puedes agregar el código para realizar el cálculo, restando el primer planeta del segundo. Debido a que el segundo planeta podría ser un número mayor, usarás abs para convertirlo a un valor absoluto\n",
    "\n",
    "d)Prueba tu aplicación\n",
    "\n",
    "Para probar el proyecto, ejecuta tu notebook. En la parte superior de vscode surgirá un cuadro de diálogo para que proporciones las distancias. Puede utilizar los datos de la tabla siguiente:\n",
    "\n",
    "Planeta Y Distancia al sol\n",
    "\n",
    "Mercurio 57900000\n",
    "\n",
    "Venus 108200000\n",
    "\n",
    "Tierra 149600000\n",
    "\n",
    "Marte 227900000\n",
    "\n",
    "Júpiter 778600000\n",
    "\n",
    "Saturno 1433500000\n",
    "\n",
    "Urano 2872500000\n",
    "\n",
    "Neptuno 44951000002"
   ]
  },
  {
   "cell_type": "code",
   "execution_count": 5,
   "metadata": {},
   "outputs": [
    {
     "name": "stdout",
     "output_type": "stream",
     "text": [
      "LA DISTANCIA ES DE  4990000029\n"
     ]
    }
   ],
   "source": [
    "distancia = planeta1 - planeta2\n",
    "print('LA DISTANCIA ES DE ', distancia)"
   ]
  },
  {
   "cell_type": "markdown",
   "metadata": {},
   "source": [
    "# NOTA, PODEMOS CONCATENAR LAS VARIABLES CON EL TEXTO CON EL SIMBOLO + PERO TEDREMOS QUE CONVERTIR A TEXTO O A INT, O PODEMOS USAR POR AHORA LA , Y AHÍ NO SERÁ NECESARIO CONVERTIR."
   ]
  }
 ],
 "metadata": {
  "kernelspec": {
   "display_name": "Python 3.10.2 64-bit (windows store)",
   "language": "python",
   "name": "python3"
  },
  "language_info": {
   "codemirror_mode": {
    "name": "ipython",
    "version": 3
   },
   "file_extension": ".py",
   "mimetype": "text/x-python",
   "name": "python",
   "nbconvert_exporter": "python",
   "pygments_lexer": "ipython3",
   "version": "3.10.2"
  },
  "orig_nbformat": 4,
  "vscode": {
   "interpreter": {
    "hash": "2df53de82fe139b23b9a340061c8527273b7fa86551030a1983ff618b17018eb"
   }
  }
 },
 "nbformat": 4,
 "nbformat_minor": 2
}
