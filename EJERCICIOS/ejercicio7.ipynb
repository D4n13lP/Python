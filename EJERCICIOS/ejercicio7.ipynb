{
  "cells": [
    {
      "cell_type": "markdown",
      "metadata": {
        "id": "qbFgShOzJFZV"
      },
      "source": [
        "## Ejercicio 1\n",
        "Vamos a crear una clase llamada Persona. Sus atributos son: nombre, edad y RFC. Construye los siguientes métodos para la clase:\n",
        "\n",
        "Un constructor, donde los datos pueden estar vacíos. Los setters y getters para cada uno de los atributos. Hay que validar las entradas de datos.\n",
        "\n",
        "mostrar(): Muestra los datos de la persona.\n",
        "\n",
        "esMayorDeEdad(): Devuelve un valor lógico indicando si es mayor de edad.\n",
        "\n",
        "\n"
      ]
    },
    {
      "cell_type": "code",
      "execution_count": 14,
      "metadata": {
        "id": "4il5rdO7JMSg"
      },
      "outputs": [
        {
          "name": "stdout",
          "output_type": "stream",
          "text": [
            "Nombre: Pedro Sanchez Pineda\n",
            "Edad: 39\n",
            "RFC: SAPP270882\n",
            "\n",
            "Es Mayor de edad\n"
          ]
        }
      ],
      "source": [
        "#tu código aqui\n",
        "class Persona: \n",
        "    especie = 'humano'\n",
        "    def __init__ (self, nombre, edad, RFC): #Metodo constructor para inicializar los atributos de la clase.\n",
        "        self.nombre = nombre\n",
        "        self.edad = edad\n",
        "        self.RFC = RFC\n",
        "    def esMayorDeEdad(self, edad):\n",
        "        self.edad = edad\n",
        "        if self.edad >= 18:\n",
        "            print('Es Mayor de edad')\n",
        "        else:\n",
        "            print(\"Es menor de edad\")\n",
        "\n",
        "name = input('Ingrese su nombre\\n')\n",
        "age = int(input('Ingrese su edad\\n'))\n",
        "rfc = input('Ingrese su RFC\\n')\n",
        "persona1 = Persona(name, age, rfc) # Se define el objeto persona1 de la clase Persona con los atributos correspondientes.\n",
        "#persona1.nombre\n",
        "persona1.edad\n",
        "persona1.RFC\n",
        "print(f'Nombre: {persona1.nombre}\\nEdad: {persona1.edad}\\nRFC: {persona1.RFC}\\n')\n",
        "persona1.esMayorDeEdad(age)\n"
      ]
    },
    {
      "cell_type": "markdown",
      "metadata": {
        "id": "lh97_w8SJNHG"
      },
      "source": [
        "## Ejercicio 2\n",
        "Crea una clase llamada Cuenta que tendrá los siguientes atributos: titular (que es una persona) y cantidad (puede tener decimales). El titular será obligatorio y la cantidad es opcional. Construye los siguientes métodos para la clase:\n",
        "\n",
        "Un constructor, donde los datos pueden estar vacíos. Los setters y getters para cada uno de los atributos. El atributo no se puede modificar directamente, sólo ingresando o retirando dinero. mostrar(): Muestra los datos de la cuenta. ingresar(cantidad): se ingresa una cantidad a la cuenta, si la cantidad introducida es negativa, no se hará nada. retirar(cantidad): se retira una cantidad a la cuenta. La cuenta puede estar en números rojos."
      ]
    },
    {
      "cell_type": "code",
      "execution_count": null,
      "metadata": {
        "id": "42UP87rkJQC9"
      },
      "outputs": [],
      "source": [
        "#tu código aqui"
      ]
    }
  ],
  "metadata": {
    "colab": {
      "name": "ejercicio7.ipynb",
      "provenance": []
    },
    "kernelspec": {
      "display_name": "Python 3.10.5 64-bit (windows store)",
      "language": "python",
      "name": "python3"
    },
    "language_info": {
      "codemirror_mode": {
        "name": "ipython",
        "version": 3
      },
      "file_extension": ".py",
      "mimetype": "text/x-python",
      "name": "python",
      "nbconvert_exporter": "python",
      "pygments_lexer": "ipython3",
      "version": "3.10.5"
    },
    "vscode": {
      "interpreter": {
        "hash": "541f1ccb820e06d22b0e0ca226fd1b36bbd00a40fedd51f8e91c1934c9becc0a"
      }
    }
  },
  "nbformat": 4,
  "nbformat_minor": 0
}
