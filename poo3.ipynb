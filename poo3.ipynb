{
  "cells": [
    {
      "cell_type": "markdown",
      "metadata": {
        "id": "JnCyXA5tC_91"
      },
      "source": [
        "Realizamos un programa que solicita los nombres de los usuarios a registrar en el taller. El ejemplo es básico en forma estructural, trata de identificar cada parte que lo compone, después trata de hacer lo mismo pero con el paradigna POO."
      ]
    },
    {
      "cell_type": "code",
      "execution_count": 37,
      "metadata": {
        "id": "RbOF0lcqsZzI"
      },
      "outputs": [
        {
          "name": "stdout",
          "output_type": "stream",
          "text": [
            "+----------+----------+\n",
            "|NOMBRE    |    FOLIO |\n",
            "+----------+----------+\n",
            "| Daniel Pineda Ortega    |    1234    |\n",
            "+------------+----------+\n",
            "se eliminaron todos los usuarios\n",
            "+----------+----------+\n",
            "|NOMBRE    |    FOLIO |\n",
            "+----------+----------+\n"
          ]
        },
        {
          "ename": "IndexError",
          "evalue": "list index out of range",
          "output_type": "error",
          "traceback": [
            "\u001b[1;31m---------------------------------------------------------------------------\u001b[0m",
            "\u001b[1;31mIndexError\u001b[0m                                Traceback (most recent call last)",
            "\u001b[1;32mc:\\Users\\Daniel\\Documents\\GitHub\\Python\\poo3.ipynb Cell 2'\u001b[0m in \u001b[0;36m<cell line: 4>\u001b[1;34m()\u001b[0m\n\u001b[0;32m     <a href='vscode-notebook-cell:/c%3A/Users/Daniel/Documents/GitHub/Python/poo3.ipynb#ch0000001?line=27'>28</a>\u001b[0m    indice \u001b[39m=\u001b[39m \u001b[39m0\u001b[39m                                                          \u001b[39m#Inicia una variable con valor \"0\" que posteriormente se usara para un bucle\u001b[39;00m\n\u001b[0;32m     <a href='vscode-notebook-cell:/c%3A/Users/Daniel/Documents/GitHub/Python/poo3.ipynb#ch0000001?line=28'>29</a>\u001b[0m \u001b[39mwhile\u001b[39;00m indice \u001b[39m<\u001b[39m \u001b[39mlen\u001b[39m(nombres) \u001b[39mor\u001b[39;00m indice \u001b[39m<\u001b[39m \u001b[39mlen\u001b[39m(folios):                                           \u001b[39m#Bucle que esta activo mientras el valor entero de \"indice\" sea menor que el valor de la longitud de la lista \"nombres\"\u001b[39;00m\n\u001b[1;32m---> <a href='vscode-notebook-cell:/c%3A/Users/Daniel/Documents/GitHub/Python/poo3.ipynb#ch0000001?line=29'>30</a>\u001b[0m      nombre \u001b[39m=\u001b[39m nombres[indice]                                          \u001b[39m#Asigna a la variable \"nombre\" el valor que se encuentre en la lista \"nombres\" en la posicion que corresponda con el valor de \"indice\"\u001b[39;00m\n\u001b[0;32m     <a href='vscode-notebook-cell:/c%3A/Users/Daniel/Documents/GitHub/Python/poo3.ipynb#ch0000001?line=30'>31</a>\u001b[0m      folio \u001b[39m=\u001b[39m folios[indice]                                            \u001b[39m#Asigna a la variable \"folio\" el valor que se encuentre en la lista \"folios\" en la posicion que corresponda con el valor de \"indice\"\u001b[39;00m\n\u001b[0;32m     <a href='vscode-notebook-cell:/c%3A/Users/Daniel/Documents/GitHub/Python/poo3.ipynb#ch0000001?line=31'>32</a>\u001b[0m      \u001b[39mprint\u001b[39m(\u001b[39mf\u001b[39m\u001b[39m'\u001b[39m\u001b[39m| \u001b[39m\u001b[39m{\u001b[39;00mnombre\u001b[39m}\u001b[39;00m\u001b[39m    |    \u001b[39m\u001b[39m{\u001b[39;00mfolio\u001b[39m}\u001b[39;00m\u001b[39m    |\u001b[39m\u001b[39m'\u001b[39m)                         \u001b[39m#Muestra el contenido de las variables \"nombre\" y \"listas\"\u001b[39;00m\n",
            "\u001b[1;31mIndexError\u001b[0m: list index out of range"
          ]
        }
      ],
      "source": [
        "\n",
        "nombres = []                                                                #Crea una lista llamada nombres \n",
        "folios = []                                                                 #Crea una lista llamada folios\n",
        "\n",
        "while True:                                                                 #Crea un bucle con la expresion booleana True para que sea infinito\n",
        "\n",
        "\n",
        "  eleccion = input(\"\"\"                                                              \n",
        "  1 - Registrar un usuario nuevo\n",
        "  2 - Mostrar usuarios\n",
        "  3 - Eliminar un usuario\n",
        "  4 - Eliminar todos los usuarios\n",
        "  5 - Salir\n",
        "  Selecciona una opción: \"\"\")                                               #Crea una variable la cual toma su valor del teclado y muestra un menu con las opciones del teclado\n",
        "  \n",
        "  if eleccion == \"1\":                                                       #Crea un condicional el cual evalua si el valor de la variable, como caracter alfanumerico no como su valor entero es = \"1\",                                                                             \n",
        "      nombre = input(\"Nombre del usuario: \")                                #si se cumple ejecuta el contenido del condicional if.\n",
        "      folio = input(\"Folio del usuaro: \")                                   #asigna a las variables \"nombre\" y \"folio\" un valor ingresado desde el teclado \n",
        "      nombres.append(nombre)                                                #Guarda en la lista \"nombres\" el valor de la variable \"nombre\" \n",
        "      folios.append(folio)                                                  #Guarda en la lista \"folios\" el valor de la variable \"folio\"\n",
        "      \n",
        "  elif eleccion == \"2\":                                                     #Condicional adicional para evaluar si la variable \"eleccion\" es igual a \"2\"\n",
        "     if len(nombres) == 0 and len(folios) == 0:                                                  #Condicional dentro de otro condicional que evalua si el tamaño de la lista \"nombres\" es igual a \"0\" en cuyo caso significaria que no contiene nada\n",
        "        print('no hay usuarios')                                            #Muestra un mensaje solamente si se cumple la condición del condicional if \n",
        "     else:                                                                  #else: ejecuta el codigo contenido solamente si no se cumple ninguna de las condiciones de los \"if\" y \"elif\" anteriores.\n",
        "        print(\"+----------+----------+\")\n",
        "        print(\"|NOMBRE    |    FOLIO |\")\n",
        "        print(\"+----------+----------+\")\n",
        "        indice = 0                                                          #Inicia una variable con valor \"0\" que posteriormente se usara para un bucle\n",
        "     while indice < len(nombres):                                           #Bucle que esta activo mientras el valor entero de \"indice\" sea menor que el valor de la longitud de la lista \"nombres\"\n",
        "          nombre = nombres[indice]                                          #Asigna a la variable \"nombre\" el valor que se encuentre en la lista \"nombres\" en la posicion que corresponda con el valor de \"indice\"\n",
        "          folio = folios[indice]                                            #Asigna a la variable \"folio\" el valor que se encuentre en la lista \"folios\" en la posicion que corresponda con el valor de \"indice\"\n",
        "          print(f'| {nombre}    |    {folio}    |')                         #Muestra el contenido de las variables \"nombre\" y \"listas\"\n",
        "          print(\"+------------+----------+\")\n",
        "          indice = indice + 1                                               #Incrementa sistematicamente en 1 el valor de \"Indice\" para poner limite al bucle while\n",
        "      \n",
        "       \n",
        "  elif eleccion == \"3\":                                                     #Condicional que evalua si \"eleccion\" tiene el valor \"3\" para decidir si ejecutar o no su codigo.\n",
        "      nombre_usuario = input(\"Nombre del usuario que se elimina: \")         #Asigna dentro de \"nombre_usuario\" un valor que se ingresa por teclado y muestra un mensaje.\n",
        "      if nombre_usuario in nombres:                                         #Condicional que evalua si el valor de la variable \"nombre_usuario\" se encuentra en la lista \"nombres\"\n",
        "          indice = nombres.index(nombre_usuario)                            #Asigna dentro de \"indice\" un dato igual al de la variable \"nombre_usuario\" que busca con el metodo \".index\" dentro de la lista \"nombres\"\n",
        "          del nombres[indice]\n",
        "          del folios[indice]\n",
        "          print(f\"Se elimina {nombre_usuario}\")\n",
        "      else:\n",
        "          print(\"El usuario no existe\")\n",
        "\n",
        "  elif eleccion == \"4\":\n",
        "      if input(\"Seguro (s/n): \") == \"s\":\n",
        "          nombres = []\n",
        "          precios = []\n",
        "          print('se eliminaron todos los usuarios')\n",
        "\n",
        "  elif eleccion == \"5\":\n",
        "      if input(\"Seguro (s/n): \") == \"s\":\n",
        "        break\n",
        "\n",
        "  else:\n",
        "    print('Opción invalida')"
      ]
    },
    {
      "cell_type": "markdown",
      "metadata": {
        "id": "SnuHeRzqNsQ1"
      },
      "source": [
        "Ahora usando POO escribe el código del mismo programa"
      ]
    },
    {
      "cell_type": "code",
      "execution_count": 1,
      "metadata": {
        "id": "h85WESgANyk-"
      },
      "outputs": [
        {
          "name": "stdout",
          "output_type": "stream",
          "text": [
            "                                                              \n",
            "        1 - Registrar un usuario nuevo\n",
            "        2 - Mostrar usuarios\n",
            "        3 - Eliminar un usuario\n",
            "        4 - Eliminar todos los usuarios\n",
            "        5 - Salir\n",
            "        Selecciona una opción: \n",
            "+----------------------+--------------+\n",
            "|NOMBRE                |    FOLIO     |\n",
            "+----------------------+--------------+\n",
            "|Daniel Pineda |PIOD930322HDF     |\n",
            "+----------------------+--------------+\n",
            "+----------------------+--------------+\n",
            "|NOMBRE                |    FOLIO     |\n",
            "+----------------------+--------------+\n",
            "|Daniel Pineda |PIOD930322HDF     |\n",
            "+----------------------+--------------+\n"
          ]
        },
        {
          "ename": "ValueError",
          "evalue": "invalid literal for int() with base 10: ''",
          "output_type": "error",
          "traceback": [
            "\u001b[1;31m---------------------------------------------------------------------------\u001b[0m",
            "\u001b[1;31mValueError\u001b[0m                                Traceback (most recent call last)",
            "\u001b[1;32mc:\\Users\\Daniel\\Documents\\GitHub\\Python\\poo3.ipynb Celda 4\u001b[0m in \u001b[0;36m<cell line: 68>\u001b[1;34m()\u001b[0m\n\u001b[0;32m     <a href='vscode-notebook-cell:/c%3A/Users/Daniel/Documents/GitHub/Python/poo3.ipynb#ch0000003?line=65'>66</a>\u001b[0m usuario1 \u001b[39m=\u001b[39m Users(\u001b[39m\"\u001b[39m\u001b[39mnombre\u001b[39m\u001b[39m\"\u001b[39m, \u001b[39m'\u001b[39m\u001b[39mfolio\u001b[39m\u001b[39m'\u001b[39m)\n\u001b[0;32m     <a href='vscode-notebook-cell:/c%3A/Users/Daniel/Documents/GitHub/Python/poo3.ipynb#ch0000003?line=66'>67</a>\u001b[0m usuario1\u001b[39m.\u001b[39mmenu()\n\u001b[1;32m---> <a href='vscode-notebook-cell:/c%3A/Users/Daniel/Documents/GitHub/Python/poo3.ipynb#ch0000003?line=67'>68</a>\u001b[0m usuario1\u001b[39m.\u001b[39;49mselect(\u001b[39m3\u001b[39;49m, \u001b[39m'\u001b[39;49m\u001b[39mpeter\u001b[39;49m\u001b[39m'\u001b[39;49m, \u001b[39m'\u001b[39;49m\u001b[39m123\u001b[39;49m\u001b[39m'\u001b[39;49m, \u001b[39m0\u001b[39;49m)\n",
            "\u001b[1;32mc:\\Users\\Daniel\\Documents\\GitHub\\Python\\poo3.ipynb Celda 4\u001b[0m in \u001b[0;36mUsers.select\u001b[1;34m(self, option, nombre, folio, indice)\u001b[0m\n\u001b[0;32m     <a href='vscode-notebook-cell:/c%3A/Users/Daniel/Documents/GitHub/Python/poo3.ipynb#ch0000003?line=17'>18</a>\u001b[0m \u001b[39mself\u001b[39m\u001b[39m.\u001b[39mname\n\u001b[0;32m     <a href='vscode-notebook-cell:/c%3A/Users/Daniel/Documents/GitHub/Python/poo3.ipynb#ch0000003?line=18'>19</a>\u001b[0m \u001b[39mwhile\u001b[39;00m \u001b[39mTrue\u001b[39;00m:\n\u001b[1;32m---> <a href='vscode-notebook-cell:/c%3A/Users/Daniel/Documents/GitHub/Python/poo3.ipynb#ch0000003?line=19'>20</a>\u001b[0m    option \u001b[39m=\u001b[39m \u001b[39mint\u001b[39;49m(\u001b[39minput\u001b[39;49m(\u001b[39m'\u001b[39;49m\u001b[39mIngresa el numero que corresponde a la opcion deseada\u001b[39;49m\u001b[39m\\n\u001b[39;49;00m\u001b[39m'\u001b[39;49m))\n\u001b[0;32m     <a href='vscode-notebook-cell:/c%3A/Users/Daniel/Documents/GitHub/Python/poo3.ipynb#ch0000003?line=20'>21</a>\u001b[0m    \u001b[39mif\u001b[39;00m (\u001b[39mint\u001b[39m(option) \u001b[39m==\u001b[39m \u001b[39m1\u001b[39m):\n\u001b[0;32m     <a href='vscode-notebook-cell:/c%3A/Users/Daniel/Documents/GitHub/Python/poo3.ipynb#ch0000003?line=21'>22</a>\u001b[0m        nombre \u001b[39m=\u001b[39m \u001b[39minput\u001b[39m(\u001b[39m\"\u001b[39m\u001b[39mNombre del usuario: \u001b[39m\u001b[39m\"\u001b[39m)                                \n",
            "\u001b[1;31mValueError\u001b[0m: invalid literal for int() with base 10: ''"
          ]
        }
      ],
      "source": [
        "#Tú código aqui\n",
        "class Users():\n",
        "    def __init__(self, nombre, folio):\n",
        "        self.nombre = nombre\n",
        "        self.folio = folio\n",
        "        self.name = []\n",
        "        self.fol = []\n",
        "    def menu(self):\n",
        "        print(\"\"\"                                                              \n",
        "        1 - Registrar un usuario nuevo\n",
        "        2 - Mostrar usuarios\n",
        "        3 - Eliminar un usuario\n",
        "        4 - Eliminar todos los usuarios\n",
        "        5 - Salir\n",
        "        Selecciona una opción: \"\"\")\n",
        "    def select(self, option, nombre, folio, indice):\n",
        "        indice\n",
        "        self.name\n",
        "        while True:\n",
        "           option = int(input('Ingresa el numero que corresponde a la opcion deseada\\n'))\n",
        "           if (int(option) == 1):\n",
        "               nombre = input(\"Nombre del usuario: \")                                \n",
        "               folio = input(\"Folio del usuaro: \") \n",
        "               self.name.append(nombre)\n",
        "               self.fol.append(folio)\n",
        "           elif (int(option) == 2):\n",
        "               if (len(self.name) == 0):\n",
        "                  print('no hay usuarios')\n",
        "               else:\n",
        "                  print(\"+----------------------+--------------+\")\n",
        "                  print(\"|NOMBRE                |    FOLIO     |\")\n",
        "                  print(\"+----------------------+--------------+\")\n",
        "                  indice = 0\n",
        "                  #return (f'{self.name} {self.fol}')\n",
        "               while (len(self.name)> indice):\n",
        "                  nombre = self.name[indice]\n",
        "                  folio = self.fol[indice]\n",
        "                  print(f'|{nombre} |{folio}     |')\n",
        "                  print(\"+----------------------+--------------+\")\n",
        "                  indice += 1\n",
        "           elif (int(option) == 3):                                                     #Condicional que evalua si \"eleccion\" tiene el valor \"3\" para decidir si ejecutar o no su codigo.\n",
        "               nombre_usuario = input(\"Nombre del usuario que se elimina: \")         #Asigna dentro de \"nombre_usuario\" un valor que se ingresa por teclado y muestra un mensaje.\n",
        "               if nombre_usuario in self.name:                                         #Condicional que evalua si el valor de la variable \"nombre_usuario\" se encuentra en la lista \"nombres\"\n",
        "                    indice = self.name.index(nombre_usuario)                            #Asigna dentro de \"indice\" un dato igual al de la variable \"nombre_usuario\" que busca con el metodo \".index\" dentro de la lista \"nombres\"\n",
        "                    del self.name[indice]\n",
        "                    del self.fol[indice]\n",
        "                    print(f\"Se elimina {nombre_usuario}\")\n",
        "               else:\n",
        "                    print(\"El usuario no existe\")\n",
        "           elif int(option) == 4:\n",
        "               if input(\"Seguro (s/n): \") == \"s\":\n",
        "                  self.name = []\n",
        "                  self.folios = []\n",
        "                  print('se eliminaron todos los usuarios')\n",
        "\n",
        "           elif int(option) == 5:\n",
        "               if input(\"Seguro (s/n): \") == \"s\":\n",
        "                  break\n",
        "\n",
        "           else:\n",
        "               print('Opción invalida')    \n",
        "                   \n",
        "     \n",
        "   \n",
        "    \n",
        "usuario1 = Users(\"nombre\", 'folio')\n",
        "usuario1.menu()\n",
        "usuario1.select(3, 'peter', '123', 0)"
      ]
    },
    {
      "cell_type": "markdown",
      "metadata": {
        "id": "FrE_eOnJ0nmP"
      },
      "source": [
        "Ahora usando getters y setters"
      ]
    },
    {
      "cell_type": "code",
      "execution_count": null,
      "metadata": {
        "id": "BNMCmw0l0zTU"
      },
      "outputs": [],
      "source": [
        "#Tú código aqui"
      ]
    }
  ],
  "metadata": {
    "colab": {
      "name": "poo3.ipynb",
      "provenance": []
    },
    "kernelspec": {
      "display_name": "Python 3.10.5 64-bit (windows store)",
      "language": "python",
      "name": "python3"
    },
    "language_info": {
      "codemirror_mode": {
        "name": "ipython",
        "version": 3
      },
      "file_extension": ".py",
      "mimetype": "text/x-python",
      "name": "python",
      "nbconvert_exporter": "python",
      "pygments_lexer": "ipython3",
      "version": "3.10.5"
    },
    "vscode": {
      "interpreter": {
        "hash": "541f1ccb820e06d22b0e0ca226fd1b36bbd00a40fedd51f8e91c1934c9becc0a"
      }
    }
  },
  "nbformat": 4,
  "nbformat_minor": 0
}
