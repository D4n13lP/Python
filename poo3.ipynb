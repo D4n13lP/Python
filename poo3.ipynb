{
  "cells": [
    {
      "cell_type": "markdown",
      "metadata": {
        "id": "JnCyXA5tC_91"
      },
      "source": [
        "Realizamos un programa que solicita los nombres de los usuarios a registrar en el taller. El ejemplo es básico en forma estructural, trata de identificar cada parte que lo compone, después trata de hacer lo mismo pero con el paradigna POO."
      ]
    },
    {
      "cell_type": "code",
      "execution_count": 1,
      "metadata": {
        "id": "RbOF0lcqsZzI"
      },
      "outputs": [
        {
          "name": "stdout",
          "output_type": "stream",
          "text": [
            "El usuario no existe\n",
            "+----------+----------+\n",
            "|NOMBRE    |    FOLIO |\n",
            "+----------+----------+\n",
            "| Daniel    |    12348567    |\n",
            "+------------+----------+\n",
            "| Isaac    |    78956456    |\n",
            "+------------+----------+\n",
            "| rajesh kootrapali    |    465879879    |\n",
            "+------------+----------+\n"
          ]
        }
      ],
      "source": [
        "\n",
        "nombres = []                                                                #Crea una lista llamada nombres \n",
        "folios = []                                                                 #Crea una lista llamada folios\n",
        "\n",
        "while True:                                                                 #Crea un bucle con la expresion booleana True para que sea infinito\n",
        "\n",
        "\n",
        "  eleccion = input(\"\"\"                                                              \n",
        "  1 - Registrar un usuario nuevo\n",
        "  2 - Mostrar usuarios\n",
        "  3 - Eliminar un usuario\n",
        "  4 - Eliminar todos los usuarios\n",
        "  5 - Salir\n",
        "  Selecciona una opción: \"\"\")                                               #Crea una variable la cual toma su valor del teclado y muestra un menu con las opciones del teclado\n",
        "  \n",
        "  if eleccion == \"1\":                                                       #Crea un condicional el cual evalua si el valor de la variable, como caracter alfanumerico no como su valor entero es = \"1\",                                                                             \n",
        "      nombre = input(\"Nombre del usuario: \")                                #si se cumple ejecuta el contenido del condicional if.\n",
        "      folio = input(\"Folio del usuaro: \")                                   #asigna a las variables \"nombre\" y \"folio\" un valor ingresado desde el teclado \n",
        "      nombres.append(nombre)                                                #Guarda en la lista \"nombres\" el valor de la variable \"nombre\" \n",
        "      folios.append(folio)                                                  #Guarda en la lista \"folios\" el valor de la variable \"folio\"\n",
        "      \n",
        "  elif eleccion == \"2\":                                                     #Condicional adicional para evaluar si la variable \"eleccion\" es igual a \"2\"\n",
        "     if len(nombres) == 0:                                                  #Condicional dentro de otro condicional que evalua si el tamaño de la lista \"nombres\" es igual a \"0\" en cuyo caso significaria que no contiene nada\n",
        "        print('no hay usuarios')                                            #Muestra un mensaje solamente si se cumple la condición del condicional if \n",
        "     else:                                                                  #else: ejecuta el codigo contenido solamente si no se cumple ninguna de las condiciones de los \"if\" y \"elif\" anteriores.\n",
        "        print(\"+----------+----------+\")\n",
        "        print(\"|NOMBRE    |    FOLIO |\")\n",
        "        print(\"+----------+----------+\")\n",
        "        indice = 0                                                          #Inicia una variable con valor \"0\" que posteriormente se usara para un bucle\n",
        "     while indice < len(nombres):                                           #Bucle que esta activo mientras el valor entero de \"indice\" sea menor que el valor de la longitud de la lista \"nombres\"\n",
        "          nombre = nombres[indice]                                          #Asigna a la variable \"nombre\" el valor que se encuentre en la lista \"nombres\" en la posicion que corresponda con el valor de \"indice\"\n",
        "          folio = folios[indice]                                            #Asigna a la variable \"folio\" el valor que se encuentre en la lista \"folios\" en la posicion que corresponda con el valor de \"indice\"\n",
        "          print(f'| {nombre}    |    {folio}    |')                         #Muestra el contenido de las variables \"nombre\" y \"listas\"\n",
        "          print(\"+------------+----------+\")\n",
        "          indice = indice + 1                                               #Incrementa sistematicamente en 1 el valor de \"Indice\" para poner limite al bucle while\n",
        "      \n",
        "       \n",
        "  elif eleccion == \"3\":                                                     #Condicional que evalua si \"eleccion\" tiene el valor \"3\" para decidir si ejecutar o no su codigo.\n",
        "      nombre_usuario = input(\"Nombre del usuario que se elimina: \")         #Asigna dentro de \"nombre_usuario\" un valor que se ingresa por teclado y muestra un mensaje.\n",
        "      if nombre_usuario in nombres:                                         #Condicional que evalua si el valor de la variable \"nombre_usuario\" se encuentra en la lista \"nombres\"\n",
        "          indice = nombres.index(nombre_usuario)                            #Asigna dentro de \"indice\" un dato igual al de la variable \"nombre_usuario\" que busca con el metodo \".index\" dentro de la lista \"nombres\"\n",
        "          del nombres[indice]\n",
        "          del folios[indice]\n",
        "          print(f\"Se elimina {nombre_usuario}\")\n",
        "      else:\n",
        "          print(\"El usuario no existe\")\n",
        "\n",
        "  elif eleccion == \"4\":\n",
        "      if input(\"Seguro (s/n): \") == \"s\":\n",
        "          nombres = []\n",
        "          precios = []\n",
        "          print('se eliminaron todos los usuarios')\n",
        "\n",
        "  elif eleccion == \"5\":\n",
        "      if input(\"Seguro (s/n): \") == \"s\":\n",
        "        break\n",
        "\n",
        "  else:\n",
        "    print('Opción invalida')"
      ]
    },
    {
      "cell_type": "markdown",
      "metadata": {
        "id": "SnuHeRzqNsQ1"
      },
      "source": [
        "Ahora usando POO escribe el código del mismo programa"
      ]
    },
    {
      "cell_type": "code",
      "execution_count": null,
      "metadata": {
        "id": "h85WESgANyk-"
      },
      "outputs": [],
      "source": [
        "#Tú código aqui"
      ]
    },
    {
      "cell_type": "markdown",
      "metadata": {
        "id": "FrE_eOnJ0nmP"
      },
      "source": [
        "Ahora usando getters y setters"
      ]
    },
    {
      "cell_type": "code",
      "execution_count": null,
      "metadata": {
        "id": "BNMCmw0l0zTU"
      },
      "outputs": [],
      "source": [
        "#Tú código aqui"
      ]
    }
  ],
  "metadata": {
    "colab": {
      "name": "poo3.ipynb",
      "provenance": []
    },
    "kernelspec": {
      "display_name": "Python 3.10.5 64-bit (windows store)",
      "language": "python",
      "name": "python3"
    },
    "language_info": {
      "codemirror_mode": {
        "name": "ipython",
        "version": 3
      },
      "file_extension": ".py",
      "mimetype": "text/x-python",
      "name": "python",
      "nbconvert_exporter": "python",
      "pygments_lexer": "ipython3",
      "version": "3.10.5"
    },
    "vscode": {
      "interpreter": {
        "hash": "541f1ccb820e06d22b0e0ca226fd1b36bbd00a40fedd51f8e91c1934c9becc0a"
      }
    }
  },
  "nbformat": 4,
  "nbformat_minor": 0
}
